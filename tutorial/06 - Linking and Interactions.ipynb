{
 "cells": [
  {
   "cell_type": "markdown",
   "metadata": {},
   "source": [
    "<table style=\"float:left; border:none\">\n",
    "   <tr style=\"border:none\">\n",
    "       <td style=\"border:none\">\n",
    "           <a href=\"https://bokeh.org/\">     \n",
    "           <img \n",
    "               src=\"assets/bokeh-transparent.png\" \n",
    "               style=\"width:50px\"\n",
    "           >\n",
    "           </a>    \n",
    "       </td>\n",
    "       <td style=\"border:none\">\n",
    "           <h1>Bokeh Tutorial</h1>\n",
    "       </td>\n",
    "   </tr>\n",
    "</table>\n",
    "\n",
    "<div style=\"float:right;\"><h2>06. Linking and Interactions</h2></div>"
   ]
  },
  {
   "cell_type": "code",
   "execution_count": 1,
   "metadata": {},
   "outputs": [
    {
     "data": {
      "text/html": [
       "\n",
       "    <div class=\"bk-root\">\n",
       "        <a href=\"https://bokeh.org\" target=\"_blank\" class=\"bk-logo bk-logo-small bk-logo-notebook\"></a>\n",
       "        <span id=\"1001\">Loading BokehJS ...</span>\n",
       "    </div>"
      ]
     },
     "metadata": {},
     "output_type": "display_data"
    },
    {
     "data": {
      "application/javascript": [
       "\n",
       "(function(root) {\n",
       "  function now() {\n",
       "    return new Date();\n",
       "  }\n",
       "\n",
       "  var force = true;\n",
       "\n",
       "  if (typeof root._bokeh_onload_callbacks === \"undefined\" || force === true) {\n",
       "    root._bokeh_onload_callbacks = [];\n",
       "    root._bokeh_is_loading = undefined;\n",
       "  }\n",
       "\n",
       "  var JS_MIME_TYPE = 'application/javascript';\n",
       "  var HTML_MIME_TYPE = 'text/html';\n",
       "  var EXEC_MIME_TYPE = 'application/vnd.bokehjs_exec.v0+json';\n",
       "  var CLASS_NAME = 'output_bokeh rendered_html';\n",
       "\n",
       "  /**\n",
       "   * Render data to the DOM node\n",
       "   */\n",
       "  function render(props, node) {\n",
       "    var script = document.createElement(\"script\");\n",
       "    node.appendChild(script);\n",
       "  }\n",
       "\n",
       "  /**\n",
       "   * Handle when an output is cleared or removed\n",
       "   */\n",
       "  function handleClearOutput(event, handle) {\n",
       "    var cell = handle.cell;\n",
       "\n",
       "    var id = cell.output_area._bokeh_element_id;\n",
       "    var server_id = cell.output_area._bokeh_server_id;\n",
       "    // Clean up Bokeh references\n",
       "    if (id != null && id in Bokeh.index) {\n",
       "      Bokeh.index[id].model.document.clear();\n",
       "      delete Bokeh.index[id];\n",
       "    }\n",
       "\n",
       "    if (server_id !== undefined) {\n",
       "      // Clean up Bokeh references\n",
       "      var cmd = \"from bokeh.io.state import curstate; print(curstate().uuid_to_server['\" + server_id + \"'].get_sessions()[0].document.roots[0]._id)\";\n",
       "      cell.notebook.kernel.execute(cmd, {\n",
       "        iopub: {\n",
       "          output: function(msg) {\n",
       "            var id = msg.content.text.trim();\n",
       "            if (id in Bokeh.index) {\n",
       "              Bokeh.index[id].model.document.clear();\n",
       "              delete Bokeh.index[id];\n",
       "            }\n",
       "          }\n",
       "        }\n",
       "      });\n",
       "      // Destroy server and session\n",
       "      var cmd = \"import bokeh.io.notebook as ion; ion.destroy_server('\" + server_id + \"')\";\n",
       "      cell.notebook.kernel.execute(cmd);\n",
       "    }\n",
       "  }\n",
       "\n",
       "  /**\n",
       "   * Handle when a new output is added\n",
       "   */\n",
       "  function handleAddOutput(event, handle) {\n",
       "    var output_area = handle.output_area;\n",
       "    var output = handle.output;\n",
       "\n",
       "    // limit handleAddOutput to display_data with EXEC_MIME_TYPE content only\n",
       "    if ((output.output_type != \"display_data\") || (!output.data.hasOwnProperty(EXEC_MIME_TYPE))) {\n",
       "      return\n",
       "    }\n",
       "\n",
       "    var toinsert = output_area.element.find(\".\" + CLASS_NAME.split(' ')[0]);\n",
       "\n",
       "    if (output.metadata[EXEC_MIME_TYPE][\"id\"] !== undefined) {\n",
       "      toinsert[toinsert.length - 1].firstChild.textContent = output.data[JS_MIME_TYPE];\n",
       "      // store reference to embed id on output_area\n",
       "      output_area._bokeh_element_id = output.metadata[EXEC_MIME_TYPE][\"id\"];\n",
       "    }\n",
       "    if (output.metadata[EXEC_MIME_TYPE][\"server_id\"] !== undefined) {\n",
       "      var bk_div = document.createElement(\"div\");\n",
       "      bk_div.innerHTML = output.data[HTML_MIME_TYPE];\n",
       "      var script_attrs = bk_div.children[0].attributes;\n",
       "      for (var i = 0; i < script_attrs.length; i++) {\n",
       "        toinsert[toinsert.length - 1].firstChild.setAttribute(script_attrs[i].name, script_attrs[i].value);\n",
       "        toinsert[toinsert.length - 1].firstChild.textContent = bk_div.children[0].textContent\n",
       "      }\n",
       "      // store reference to server id on output_area\n",
       "      output_area._bokeh_server_id = output.metadata[EXEC_MIME_TYPE][\"server_id\"];\n",
       "    }\n",
       "  }\n",
       "\n",
       "  function register_renderer(events, OutputArea) {\n",
       "\n",
       "    function append_mime(data, metadata, element) {\n",
       "      // create a DOM node to render to\n",
       "      var toinsert = this.create_output_subarea(\n",
       "        metadata,\n",
       "        CLASS_NAME,\n",
       "        EXEC_MIME_TYPE\n",
       "      );\n",
       "      this.keyboard_manager.register_events(toinsert);\n",
       "      // Render to node\n",
       "      var props = {data: data, metadata: metadata[EXEC_MIME_TYPE]};\n",
       "      render(props, toinsert[toinsert.length - 1]);\n",
       "      element.append(toinsert);\n",
       "      return toinsert\n",
       "    }\n",
       "\n",
       "    /* Handle when an output is cleared or removed */\n",
       "    events.on('clear_output.CodeCell', handleClearOutput);\n",
       "    events.on('delete.Cell', handleClearOutput);\n",
       "\n",
       "    /* Handle when a new output is added */\n",
       "    events.on('output_added.OutputArea', handleAddOutput);\n",
       "\n",
       "    /**\n",
       "     * Register the mime type and append_mime function with output_area\n",
       "     */\n",
       "    OutputArea.prototype.register_mime_type(EXEC_MIME_TYPE, append_mime, {\n",
       "      /* Is output safe? */\n",
       "      safe: true,\n",
       "      /* Index of renderer in `output_area.display_order` */\n",
       "      index: 0\n",
       "    });\n",
       "  }\n",
       "\n",
       "  // register the mime type if in Jupyter Notebook environment and previously unregistered\n",
       "  if (root.Jupyter !== undefined) {\n",
       "    var events = require('base/js/events');\n",
       "    var OutputArea = require('notebook/js/outputarea').OutputArea;\n",
       "\n",
       "    if (OutputArea.prototype.mime_types().indexOf(EXEC_MIME_TYPE) == -1) {\n",
       "      register_renderer(events, OutputArea);\n",
       "    }\n",
       "  }\n",
       "\n",
       "  \n",
       "  if (typeof (root._bokeh_timeout) === \"undefined\" || force === true) {\n",
       "    root._bokeh_timeout = Date.now() + 5000;\n",
       "    root._bokeh_failed_load = false;\n",
       "  }\n",
       "\n",
       "  var NB_LOAD_WARNING = {'data': {'text/html':\n",
       "     \"<div style='background-color: #fdd'>\\n\"+\n",
       "     \"<p>\\n\"+\n",
       "     \"BokehJS does not appear to have successfully loaded. If loading BokehJS from CDN, this \\n\"+\n",
       "     \"may be due to a slow or bad network connection. Possible fixes:\\n\"+\n",
       "     \"</p>\\n\"+\n",
       "     \"<ul>\\n\"+\n",
       "     \"<li>re-rerun `output_notebook()` to attempt to load from CDN again, or</li>\\n\"+\n",
       "     \"<li>use INLINE resources instead, as so:</li>\\n\"+\n",
       "     \"</ul>\\n\"+\n",
       "     \"<code>\\n\"+\n",
       "     \"from bokeh.resources import INLINE\\n\"+\n",
       "     \"output_notebook(resources=INLINE)\\n\"+\n",
       "     \"</code>\\n\"+\n",
       "     \"</div>\"}};\n",
       "\n",
       "  function display_loaded() {\n",
       "    var el = document.getElementById(\"1001\");\n",
       "    if (el != null) {\n",
       "      el.textContent = \"BokehJS is loading...\";\n",
       "    }\n",
       "    if (root.Bokeh !== undefined) {\n",
       "      if (el != null) {\n",
       "        el.textContent = \"BokehJS \" + root.Bokeh.version + \" successfully loaded.\";\n",
       "      }\n",
       "    } else if (Date.now() < root._bokeh_timeout) {\n",
       "      setTimeout(display_loaded, 100)\n",
       "    }\n",
       "  }\n",
       "\n",
       "\n",
       "  function run_callbacks() {\n",
       "    try {\n",
       "      root._bokeh_onload_callbacks.forEach(function(callback) {\n",
       "        if (callback != null)\n",
       "          callback();\n",
       "      });\n",
       "    } finally {\n",
       "      delete root._bokeh_onload_callbacks\n",
       "    }\n",
       "    console.debug(\"Bokeh: all callbacks have finished\");\n",
       "  }\n",
       "\n",
       "  function load_libs(css_urls, js_urls, callback) {\n",
       "    if (css_urls == null) css_urls = [];\n",
       "    if (js_urls == null) js_urls = [];\n",
       "\n",
       "    root._bokeh_onload_callbacks.push(callback);\n",
       "    if (root._bokeh_is_loading > 0) {\n",
       "      console.debug(\"Bokeh: BokehJS is being loaded, scheduling callback at\", now());\n",
       "      return null;\n",
       "    }\n",
       "    if (js_urls == null || js_urls.length === 0) {\n",
       "      run_callbacks();\n",
       "      return null;\n",
       "    }\n",
       "    console.debug(\"Bokeh: BokehJS not loaded, scheduling load and callback at\", now());\n",
       "    root._bokeh_is_loading = css_urls.length + js_urls.length;\n",
       "\n",
       "    function on_load() {\n",
       "      root._bokeh_is_loading--;\n",
       "      if (root._bokeh_is_loading === 0) {\n",
       "        console.debug(\"Bokeh: all BokehJS libraries/stylesheets loaded\");\n",
       "        run_callbacks()\n",
       "      }\n",
       "    }\n",
       "\n",
       "    function on_error() {\n",
       "      console.error(\"failed to load \" + url);\n",
       "    }\n",
       "\n",
       "    for (var i = 0; i < css_urls.length; i++) {\n",
       "      var url = css_urls[i];\n",
       "      const element = document.createElement(\"link\");\n",
       "      element.onload = on_load;\n",
       "      element.onerror = on_error;\n",
       "      element.rel = \"stylesheet\";\n",
       "      element.type = \"text/css\";\n",
       "      element.href = url;\n",
       "      console.debug(\"Bokeh: injecting link tag for BokehJS stylesheet: \", url);\n",
       "      document.body.appendChild(element);\n",
       "    }\n",
       "\n",
       "    const hashes = {\"https://cdn.bokeh.org/bokeh/release/bokeh-2.0.2.min.js\": \"ufR9RFnRs6lniiaFvtJziE0YeidtAgBRH6ux2oUItHw5WTvE1zuk9uzhUU/FJXDp\", \"https://cdn.bokeh.org/bokeh/release/bokeh-widgets-2.0.2.min.js\": \"8QM/PGWBT+IssZuRcDcjzwIh1mkOmJSoNMmyYDZbCfXJg3Ap1lEvdVgFuSAwhb/J\", \"https://cdn.bokeh.org/bokeh/release/bokeh-tables-2.0.2.min.js\": \"Jm8cH3Rg0P6UeZhVY5cLy1WzKajUT9KImCY+76hEqrcJt59/d8GPvFHjCkYgnSIn\", \"https://cdn.bokeh.org/bokeh/release/bokeh-gl-2.0.2.min.js\": \"Ozhzj+SI7ywm74aOI/UajcWz+C0NjsPunEVyVIrxzYkB+jA+2tUw8x5xJCbVtK5I\"};\n",
       "\n",
       "    for (var i = 0; i < js_urls.length; i++) {\n",
       "      var url = js_urls[i];\n",
       "      var element = document.createElement('script');\n",
       "      element.onload = on_load;\n",
       "      element.onerror = on_error;\n",
       "      element.async = false;\n",
       "      element.src = url;\n",
       "      if (url in hashes) {\n",
       "        element.crossOrigin = \"anonymous\";\n",
       "        element.integrity = \"sha384-\" + hashes[url];\n",
       "      }\n",
       "      console.debug(\"Bokeh: injecting script tag for BokehJS library: \", url);\n",
       "      document.head.appendChild(element);\n",
       "    }\n",
       "  };\n",
       "\n",
       "  function inject_raw_css(css) {\n",
       "    const element = document.createElement(\"style\");\n",
       "    element.appendChild(document.createTextNode(css));\n",
       "    document.body.appendChild(element);\n",
       "  }\n",
       "\n",
       "  \n",
       "  var js_urls = [\"https://cdn.bokeh.org/bokeh/release/bokeh-2.0.2.min.js\", \"https://cdn.bokeh.org/bokeh/release/bokeh-widgets-2.0.2.min.js\", \"https://cdn.bokeh.org/bokeh/release/bokeh-tables-2.0.2.min.js\", \"https://cdn.bokeh.org/bokeh/release/bokeh-gl-2.0.2.min.js\"];\n",
       "  var css_urls = [];\n",
       "  \n",
       "\n",
       "  var inline_js = [\n",
       "    function(Bokeh) {\n",
       "      Bokeh.set_log_level(\"info\");\n",
       "    },\n",
       "    function(Bokeh) {\n",
       "    \n",
       "    \n",
       "    }\n",
       "  ];\n",
       "\n",
       "  function run_inline_js() {\n",
       "    \n",
       "    if (root.Bokeh !== undefined || force === true) {\n",
       "      \n",
       "    for (var i = 0; i < inline_js.length; i++) {\n",
       "      inline_js[i].call(root, root.Bokeh);\n",
       "    }\n",
       "    if (force === true) {\n",
       "        display_loaded();\n",
       "      }} else if (Date.now() < root._bokeh_timeout) {\n",
       "      setTimeout(run_inline_js, 100);\n",
       "    } else if (!root._bokeh_failed_load) {\n",
       "      console.log(\"Bokeh: BokehJS failed to load within specified timeout.\");\n",
       "      root._bokeh_failed_load = true;\n",
       "    } else if (force !== true) {\n",
       "      var cell = $(document.getElementById(\"1001\")).parents('.cell').data().cell;\n",
       "      cell.output_area.append_execute_result(NB_LOAD_WARNING)\n",
       "    }\n",
       "\n",
       "  }\n",
       "\n",
       "  if (root._bokeh_is_loading === 0) {\n",
       "    console.debug(\"Bokeh: BokehJS loaded, going straight to plotting\");\n",
       "    run_inline_js();\n",
       "  } else {\n",
       "    load_libs(css_urls, js_urls, function() {\n",
       "      console.debug(\"Bokeh: BokehJS plotting callback run at\", now());\n",
       "      run_inline_js();\n",
       "    });\n",
       "  }\n",
       "}(window));"
      ],
      "application/vnd.bokehjs_load.v0+json": "\n(function(root) {\n  function now() {\n    return new Date();\n  }\n\n  var force = true;\n\n  if (typeof root._bokeh_onload_callbacks === \"undefined\" || force === true) {\n    root._bokeh_onload_callbacks = [];\n    root._bokeh_is_loading = undefined;\n  }\n\n  \n\n  \n  if (typeof (root._bokeh_timeout) === \"undefined\" || force === true) {\n    root._bokeh_timeout = Date.now() + 5000;\n    root._bokeh_failed_load = false;\n  }\n\n  var NB_LOAD_WARNING = {'data': {'text/html':\n     \"<div style='background-color: #fdd'>\\n\"+\n     \"<p>\\n\"+\n     \"BokehJS does not appear to have successfully loaded. If loading BokehJS from CDN, this \\n\"+\n     \"may be due to a slow or bad network connection. Possible fixes:\\n\"+\n     \"</p>\\n\"+\n     \"<ul>\\n\"+\n     \"<li>re-rerun `output_notebook()` to attempt to load from CDN again, or</li>\\n\"+\n     \"<li>use INLINE resources instead, as so:</li>\\n\"+\n     \"</ul>\\n\"+\n     \"<code>\\n\"+\n     \"from bokeh.resources import INLINE\\n\"+\n     \"output_notebook(resources=INLINE)\\n\"+\n     \"</code>\\n\"+\n     \"</div>\"}};\n\n  function display_loaded() {\n    var el = document.getElementById(\"1001\");\n    if (el != null) {\n      el.textContent = \"BokehJS is loading...\";\n    }\n    if (root.Bokeh !== undefined) {\n      if (el != null) {\n        el.textContent = \"BokehJS \" + root.Bokeh.version + \" successfully loaded.\";\n      }\n    } else if (Date.now() < root._bokeh_timeout) {\n      setTimeout(display_loaded, 100)\n    }\n  }\n\n\n  function run_callbacks() {\n    try {\n      root._bokeh_onload_callbacks.forEach(function(callback) {\n        if (callback != null)\n          callback();\n      });\n    } finally {\n      delete root._bokeh_onload_callbacks\n    }\n    console.debug(\"Bokeh: all callbacks have finished\");\n  }\n\n  function load_libs(css_urls, js_urls, callback) {\n    if (css_urls == null) css_urls = [];\n    if (js_urls == null) js_urls = [];\n\n    root._bokeh_onload_callbacks.push(callback);\n    if (root._bokeh_is_loading > 0) {\n      console.debug(\"Bokeh: BokehJS is being loaded, scheduling callback at\", now());\n      return null;\n    }\n    if (js_urls == null || js_urls.length === 0) {\n      run_callbacks();\n      return null;\n    }\n    console.debug(\"Bokeh: BokehJS not loaded, scheduling load and callback at\", now());\n    root._bokeh_is_loading = css_urls.length + js_urls.length;\n\n    function on_load() {\n      root._bokeh_is_loading--;\n      if (root._bokeh_is_loading === 0) {\n        console.debug(\"Bokeh: all BokehJS libraries/stylesheets loaded\");\n        run_callbacks()\n      }\n    }\n\n    function on_error() {\n      console.error(\"failed to load \" + url);\n    }\n\n    for (var i = 0; i < css_urls.length; i++) {\n      var url = css_urls[i];\n      const element = document.createElement(\"link\");\n      element.onload = on_load;\n      element.onerror = on_error;\n      element.rel = \"stylesheet\";\n      element.type = \"text/css\";\n      element.href = url;\n      console.debug(\"Bokeh: injecting link tag for BokehJS stylesheet: \", url);\n      document.body.appendChild(element);\n    }\n\n    const hashes = {\"https://cdn.bokeh.org/bokeh/release/bokeh-2.0.2.min.js\": \"ufR9RFnRs6lniiaFvtJziE0YeidtAgBRH6ux2oUItHw5WTvE1zuk9uzhUU/FJXDp\", \"https://cdn.bokeh.org/bokeh/release/bokeh-widgets-2.0.2.min.js\": \"8QM/PGWBT+IssZuRcDcjzwIh1mkOmJSoNMmyYDZbCfXJg3Ap1lEvdVgFuSAwhb/J\", \"https://cdn.bokeh.org/bokeh/release/bokeh-tables-2.0.2.min.js\": \"Jm8cH3Rg0P6UeZhVY5cLy1WzKajUT9KImCY+76hEqrcJt59/d8GPvFHjCkYgnSIn\", \"https://cdn.bokeh.org/bokeh/release/bokeh-gl-2.0.2.min.js\": \"Ozhzj+SI7ywm74aOI/UajcWz+C0NjsPunEVyVIrxzYkB+jA+2tUw8x5xJCbVtK5I\"};\n\n    for (var i = 0; i < js_urls.length; i++) {\n      var url = js_urls[i];\n      var element = document.createElement('script');\n      element.onload = on_load;\n      element.onerror = on_error;\n      element.async = false;\n      element.src = url;\n      if (url in hashes) {\n        element.crossOrigin = \"anonymous\";\n        element.integrity = \"sha384-\" + hashes[url];\n      }\n      console.debug(\"Bokeh: injecting script tag for BokehJS library: \", url);\n      document.head.appendChild(element);\n    }\n  };\n\n  function inject_raw_css(css) {\n    const element = document.createElement(\"style\");\n    element.appendChild(document.createTextNode(css));\n    document.body.appendChild(element);\n  }\n\n  \n  var js_urls = [\"https://cdn.bokeh.org/bokeh/release/bokeh-2.0.2.min.js\", \"https://cdn.bokeh.org/bokeh/release/bokeh-widgets-2.0.2.min.js\", \"https://cdn.bokeh.org/bokeh/release/bokeh-tables-2.0.2.min.js\", \"https://cdn.bokeh.org/bokeh/release/bokeh-gl-2.0.2.min.js\"];\n  var css_urls = [];\n  \n\n  var inline_js = [\n    function(Bokeh) {\n      Bokeh.set_log_level(\"info\");\n    },\n    function(Bokeh) {\n    \n    \n    }\n  ];\n\n  function run_inline_js() {\n    \n    if (root.Bokeh !== undefined || force === true) {\n      \n    for (var i = 0; i < inline_js.length; i++) {\n      inline_js[i].call(root, root.Bokeh);\n    }\n    if (force === true) {\n        display_loaded();\n      }} else if (Date.now() < root._bokeh_timeout) {\n      setTimeout(run_inline_js, 100);\n    } else if (!root._bokeh_failed_load) {\n      console.log(\"Bokeh: BokehJS failed to load within specified timeout.\");\n      root._bokeh_failed_load = true;\n    } else if (force !== true) {\n      var cell = $(document.getElementById(\"1001\")).parents('.cell').data().cell;\n      cell.output_area.append_execute_result(NB_LOAD_WARNING)\n    }\n\n  }\n\n  if (root._bokeh_is_loading === 0) {\n    console.debug(\"Bokeh: BokehJS loaded, going straight to plotting\");\n    run_inline_js();\n  } else {\n    load_libs(css_urls, js_urls, function() {\n      console.debug(\"Bokeh: BokehJS plotting callback run at\", now());\n      run_inline_js();\n    });\n  }\n}(window));"
     },
     "metadata": {},
     "output_type": "display_data"
    }
   ],
   "source": [
    "from bokeh.io import output_notebook, show\n",
    "from bokeh.plotting import figure\n",
    "output_notebook()"
   ]
  },
  {
   "cell_type": "markdown",
   "metadata": {},
   "source": [
    "Now that we know from the previous chapter how multiple plots can be placed together in a layout, we can start to look at how different plots can be linked together, or how plots can be linked to widgets. "
   ]
  },
  {
   "cell_type": "markdown",
   "metadata": {},
   "source": [
    "# Linked Interactions\n",
    "\n",
    "It is possible to link various interactions between different Bokeh plots. For instance, the ranges of two (or more) plots can be linked, so that when one of the plots is panned (or zoomed, or otherwise has its range changed) the other plots will update in unison. It is also possible to link selections between two plots, so that when items are selected on one plot, the corresponding items on the second plot also become selected. "
   ]
  },
  {
   "cell_type": "markdown",
   "metadata": {},
   "source": [
    "## Linked panning\n",
    "\n",
    "Linked panning (when multiple plots have ranges that stay in sync) is simple to spell with Bokeh. You simply share the appropriate range objects between two (or more) plots. The example below shows how to accomplish this by linking the ranges of three plots in various ways:"
   ]
  },
  {
   "cell_type": "code",
   "execution_count": 2,
   "metadata": {},
   "outputs": [
    {
     "data": {
      "text/html": [
       "\n",
       "\n",
       "\n",
       "\n",
       "\n",
       "\n",
       "  <div class=\"bk-root\" id=\"5e3d6741-53bf-42e1-be19-09952d12a8fe\" data-root-id=\"1110\"></div>\n"
      ]
     },
     "metadata": {},
     "output_type": "display_data"
    },
    {
     "data": {
      "application/javascript": [
       "(function(root) {\n",
       "  function embed_document(root) {\n",
       "    \n",
       "  var docs_json = {\"07dde969-3c39-4f16-8a8a-3465d545327c\":{\"roots\":{\"references\":[{\"attributes\":{\"children\":[{\"id\":\"1109\"},{\"id\":\"1107\"}]},\"id\":\"1110\",\"type\":\"Column\"},{\"attributes\":{},\"id\":\"1032\",\"type\":\"LinearScale\"},{\"attributes\":{\"data_source\":{\"id\":\"1075\"},\"glyph\":{\"id\":\"1076\"},\"hover_glyph\":null,\"muted_glyph\":null,\"nonselection_glyph\":{\"id\":\"1077\"},\"selection_glyph\":null,\"view\":{\"id\":\"1079\"}},\"id\":\"1078\",\"type\":\"GlyphRenderer\"},{\"attributes\":{},\"id\":\"1067\",\"type\":\"BasicTicker\"},{\"attributes\":{\"toolbars\":[{\"id\":\"1021\"},{\"id\":\"1046\"},{\"id\":\"1072\"}],\"tools\":[{\"id\":\"1019\"},{\"id\":\"1020\"},{\"id\":\"1044\"},{\"id\":\"1045\"},{\"id\":\"1070\"},{\"id\":\"1071\"}]},\"id\":\"1108\",\"type\":\"ProxyToolbar\"},{\"attributes\":{},\"id\":\"1009\",\"type\":\"LinearScale\"},{\"attributes\":{\"fill_alpha\":{\"value\":0.1},\"fill_color\":{\"value\":\"olive\"},\"line_alpha\":{\"value\":0.1},\"line_color\":{\"value\":\"olive\"},\"size\":{\"units\":\"screen\",\"value\":10},\"x\":{\"field\":\"x\"},\"y\":{\"field\":\"y\"}},\"id\":\"1077\",\"type\":\"Square\"},{\"attributes\":{},\"id\":\"1104\",\"type\":\"Selection\"},{\"attributes\":{},\"id\":\"1034\",\"type\":\"LinearScale\"},{\"attributes\":{\"axis\":{\"id\":\"1066\"},\"dimension\":1,\"ticker\":null},\"id\":\"1069\",\"type\":\"Grid\"},{\"attributes\":{},\"id\":\"1105\",\"type\":\"UnionRenderers\"},{\"attributes\":{\"formatter\":{\"id\":\"1084\"},\"ticker\":{\"id\":\"1012\"}},\"id\":\"1011\",\"type\":\"LinearAxis\"},{\"attributes\":{\"formatter\":{\"id\":\"1093\"},\"ticker\":{\"id\":\"1037\"}},\"id\":\"1036\",\"type\":\"LinearAxis\"},{\"attributes\":{},\"id\":\"1016\",\"type\":\"BasicTicker\"},{\"attributes\":{},\"id\":\"1012\",\"type\":\"BasicTicker\"},{\"attributes\":{},\"id\":\"1070\",\"type\":\"PanTool\"},{\"attributes\":{\"active_drag\":\"auto\",\"active_inspect\":\"auto\",\"active_multi\":null,\"active_scroll\":\"auto\",\"active_tap\":\"auto\",\"tools\":[{\"id\":\"1070\"},{\"id\":\"1071\"}]},\"id\":\"1072\",\"type\":\"Toolbar\"},{\"attributes\":{},\"id\":\"1091\",\"type\":\"BasicTickFormatter\"},{\"attributes\":{\"toolbar\":{\"id\":\"1108\"},\"toolbar_location\":\"above\"},\"id\":\"1109\",\"type\":\"ToolbarBox\"},{\"attributes\":{\"active_drag\":\"auto\",\"active_inspect\":\"auto\",\"active_multi\":null,\"active_scroll\":\"auto\",\"active_tap\":\"auto\",\"tools\":[{\"id\":\"1044\"},{\"id\":\"1045\"}]},\"id\":\"1046\",\"type\":\"Toolbar\"},{\"attributes\":{\"axis\":{\"id\":\"1011\"},\"ticker\":null},\"id\":\"1014\",\"type\":\"Grid\"},{\"attributes\":{\"axis\":{\"id\":\"1062\"},\"ticker\":null},\"id\":\"1065\",\"type\":\"Grid\"},{\"attributes\":{\"data_source\":{\"id\":\"1024\"},\"glyph\":{\"id\":\"1025\"},\"hover_glyph\":null,\"muted_glyph\":null,\"nonselection_glyph\":{\"id\":\"1026\"},\"selection_glyph\":null,\"view\":{\"id\":\"1028\"}},\"id\":\"1027\",\"type\":\"GlyphRenderer\"},{\"attributes\":{},\"id\":\"1041\",\"type\":\"BasicTicker\"},{\"attributes\":{},\"id\":\"1095\",\"type\":\"Selection\"},{\"attributes\":{},\"id\":\"1071\",\"type\":\"WheelZoomTool\"},{\"attributes\":{\"axis\":{\"id\":\"1015\"},\"dimension\":1,\"ticker\":null},\"id\":\"1018\",\"type\":\"Grid\"},{\"attributes\":{},\"id\":\"1037\",\"type\":\"BasicTicker\"},{\"attributes\":{\"formatter\":{\"id\":\"1082\"},\"ticker\":{\"id\":\"1016\"}},\"id\":\"1015\",\"type\":\"LinearAxis\"},{\"attributes\":{},\"id\":\"1093\",\"type\":\"BasicTickFormatter\"},{\"attributes\":{\"axis\":{\"id\":\"1036\"},\"ticker\":null},\"id\":\"1039\",\"type\":\"Grid\"},{\"attributes\":{\"fill_alpha\":{\"value\":0.1},\"fill_color\":{\"value\":\"firebrick\"},\"line_alpha\":{\"value\":0.1},\"line_color\":{\"value\":\"firebrick\"},\"size\":{\"units\":\"screen\",\"value\":10},\"x\":{\"field\":\"x\"},\"y\":{\"field\":\"y\"}},\"id\":\"1051\",\"type\":\"Triangle\"},{\"attributes\":{\"data\":{\"x\":[0,1,2,3,4,5,6,7,8,9,10],\"y\":[5,4,3,2,1,0,1,2,3,4,5]},\"selected\":{\"id\":\"1104\"},\"selection_policy\":{\"id\":\"1105\"}},\"id\":\"1075\",\"type\":\"ColumnDataSource\"},{\"attributes\":{\"data_source\":{\"id\":\"1049\"},\"glyph\":{\"id\":\"1050\"},\"hover_glyph\":null,\"muted_glyph\":null,\"nonselection_glyph\":{\"id\":\"1051\"},\"selection_glyph\":null,\"view\":{\"id\":\"1053\"}},\"id\":\"1052\",\"type\":\"GlyphRenderer\"},{\"attributes\":{\"axis\":{\"id\":\"1040\"},\"dimension\":1,\"ticker\":null},\"id\":\"1043\",\"type\":\"Grid\"},{\"attributes\":{\"fill_color\":{\"value\":\"firebrick\"},\"line_color\":{\"value\":\"firebrick\"},\"size\":{\"units\":\"screen\",\"value\":10},\"x\":{\"field\":\"x\"},\"y\":{\"field\":\"y\"}},\"id\":\"1050\",\"type\":\"Triangle\"},{\"attributes\":{\"source\":{\"id\":\"1075\"}},\"id\":\"1079\",\"type\":\"CDSView\"},{\"attributes\":{\"formatter\":{\"id\":\"1091\"},\"ticker\":{\"id\":\"1041\"}},\"id\":\"1040\",\"type\":\"LinearAxis\"},{\"attributes\":{},\"id\":\"1086\",\"type\":\"Selection\"},{\"attributes\":{},\"id\":\"1096\",\"type\":\"UnionRenderers\"},{\"attributes\":{\"below\":[{\"id\":\"1036\"}],\"center\":[{\"id\":\"1039\"},{\"id\":\"1043\"}],\"left\":[{\"id\":\"1040\"}],\"plot_height\":250,\"plot_width\":250,\"renderers\":[{\"id\":\"1052\"}],\"title\":{\"id\":\"1090\"},\"toolbar\":{\"id\":\"1046\"},\"toolbar_location\":null,\"x_range\":{\"id\":\"1003\"},\"x_scale\":{\"id\":\"1032\"},\"y_range\":{\"id\":\"1005\"},\"y_scale\":{\"id\":\"1034\"}},\"id\":\"1029\",\"subtype\":\"Figure\",\"type\":\"Plot\"},{\"attributes\":{},\"id\":\"1056\",\"type\":\"DataRange1d\"},{\"attributes\":{\"active_drag\":\"auto\",\"active_inspect\":\"auto\",\"active_multi\":null,\"active_scroll\":\"auto\",\"active_tap\":\"auto\",\"tools\":[{\"id\":\"1019\"},{\"id\":\"1020\"}]},\"id\":\"1021\",\"type\":\"Toolbar\"},{\"attributes\":{},\"id\":\"1082\",\"type\":\"BasicTickFormatter\"},{\"attributes\":{\"fill_color\":{\"value\":\"olive\"},\"line_color\":{\"value\":\"olive\"},\"size\":{\"units\":\"screen\",\"value\":10},\"x\":{\"field\":\"x\"},\"y\":{\"field\":\"y\"}},\"id\":\"1076\",\"type\":\"Square\"},{\"attributes\":{\"children\":[[{\"id\":\"1002\"},0,0],[{\"id\":\"1029\"},0,1],[{\"id\":\"1054\"},0,2]]},\"id\":\"1107\",\"type\":\"GridBox\"},{\"attributes\":{},\"id\":\"1087\",\"type\":\"UnionRenderers\"},{\"attributes\":{},\"id\":\"1044\",\"type\":\"PanTool\"},{\"attributes\":{\"data\":{\"x\":[0,1,2,3,4,5,6,7,8,9,10],\"y\":[0,1,2,3,4,5,6,7,8,9,10]},\"selected\":{\"id\":\"1086\"},\"selection_policy\":{\"id\":\"1087\"}},\"id\":\"1024\",\"type\":\"ColumnDataSource\"},{\"attributes\":{},\"id\":\"1084\",\"type\":\"BasicTickFormatter\"},{\"attributes\":{},\"id\":\"1058\",\"type\":\"LinearScale\"},{\"attributes\":{\"text\":\"\"},\"id\":\"1081\",\"type\":\"Title\"},{\"attributes\":{\"text\":\"\"},\"id\":\"1090\",\"type\":\"Title\"},{\"attributes\":{},\"id\":\"1045\",\"type\":\"WheelZoomTool\"},{\"attributes\":{\"below\":[{\"id\":\"1011\"}],\"center\":[{\"id\":\"1014\"},{\"id\":\"1018\"}],\"left\":[{\"id\":\"1015\"}],\"plot_height\":250,\"plot_width\":250,\"renderers\":[{\"id\":\"1027\"}],\"title\":{\"id\":\"1081\"},\"toolbar\":{\"id\":\"1021\"},\"toolbar_location\":null,\"x_range\":{\"id\":\"1003\"},\"x_scale\":{\"id\":\"1007\"},\"y_range\":{\"id\":\"1005\"},\"y_scale\":{\"id\":\"1009\"}},\"id\":\"1002\",\"subtype\":\"Figure\",\"type\":\"Plot\"},{\"attributes\":{\"data\":{\"x\":[0,1,2,3,4,5,6,7,8,9,10],\"y\":[10,9,8,7,6,5,4,3,2,1,0]},\"selected\":{\"id\":\"1095\"},\"selection_policy\":{\"id\":\"1096\"}},\"id\":\"1049\",\"type\":\"ColumnDataSource\"},{\"attributes\":{},\"id\":\"1005\",\"type\":\"DataRange1d\"},{\"attributes\":{},\"id\":\"1100\",\"type\":\"BasicTickFormatter\"},{\"attributes\":{\"below\":[{\"id\":\"1062\"}],\"center\":[{\"id\":\"1065\"},{\"id\":\"1069\"}],\"left\":[{\"id\":\"1066\"}],\"plot_height\":250,\"plot_width\":250,\"renderers\":[{\"id\":\"1078\"}],\"title\":{\"id\":\"1099\"},\"toolbar\":{\"id\":\"1072\"},\"toolbar_location\":null,\"x_range\":{\"id\":\"1003\"},\"x_scale\":{\"id\":\"1058\"},\"y_range\":{\"id\":\"1056\"},\"y_scale\":{\"id\":\"1060\"}},\"id\":\"1054\",\"subtype\":\"Figure\",\"type\":\"Plot\"},{\"attributes\":{\"fill_alpha\":{\"value\":0.1},\"fill_color\":{\"value\":\"navy\"},\"line_alpha\":{\"value\":0.1},\"line_color\":{\"value\":\"navy\"},\"size\":{\"units\":\"screen\",\"value\":10},\"x\":{\"field\":\"x\"},\"y\":{\"field\":\"y\"}},\"id\":\"1026\",\"type\":\"Circle\"},{\"attributes\":{},\"id\":\"1007\",\"type\":\"LinearScale\"},{\"attributes\":{},\"id\":\"1060\",\"type\":\"LinearScale\"},{\"attributes\":{\"fill_color\":{\"value\":\"navy\"},\"line_color\":{\"value\":\"navy\"},\"size\":{\"units\":\"screen\",\"value\":10},\"x\":{\"field\":\"x\"},\"y\":{\"field\":\"y\"}},\"id\":\"1025\",\"type\":\"Circle\"},{\"attributes\":{},\"id\":\"1102\",\"type\":\"BasicTickFormatter\"},{\"attributes\":{\"text\":\"\"},\"id\":\"1099\",\"type\":\"Title\"},{\"attributes\":{\"formatter\":{\"id\":\"1102\"},\"ticker\":{\"id\":\"1063\"}},\"id\":\"1062\",\"type\":\"LinearAxis\"},{\"attributes\":{\"source\":{\"id\":\"1049\"}},\"id\":\"1053\",\"type\":\"CDSView\"},{\"attributes\":{},\"id\":\"1003\",\"type\":\"DataRange1d\"},{\"attributes\":{\"formatter\":{\"id\":\"1100\"},\"ticker\":{\"id\":\"1067\"}},\"id\":\"1066\",\"type\":\"LinearAxis\"},{\"attributes\":{\"source\":{\"id\":\"1024\"}},\"id\":\"1028\",\"type\":\"CDSView\"},{\"attributes\":{},\"id\":\"1063\",\"type\":\"BasicTicker\"},{\"attributes\":{},\"id\":\"1020\",\"type\":\"WheelZoomTool\"},{\"attributes\":{},\"id\":\"1019\",\"type\":\"PanTool\"}],\"root_ids\":[\"1110\"]},\"title\":\"Bokeh Application\",\"version\":\"2.0.2\"}};\n",
       "  var render_items = [{\"docid\":\"07dde969-3c39-4f16-8a8a-3465d545327c\",\"root_ids\":[\"1110\"],\"roots\":{\"1110\":\"5e3d6741-53bf-42e1-be19-09952d12a8fe\"}}];\n",
       "  root.Bokeh.embed.embed_items_notebook(docs_json, render_items);\n",
       "\n",
       "  }\n",
       "  if (root.Bokeh !== undefined) {\n",
       "    embed_document(root);\n",
       "  } else {\n",
       "    var attempts = 0;\n",
       "    var timer = setInterval(function(root) {\n",
       "      if (root.Bokeh !== undefined) {\n",
       "        clearInterval(timer);\n",
       "        embed_document(root);\n",
       "      } else {\n",
       "        attempts++;\n",
       "        if (attempts > 100) {\n",
       "          clearInterval(timer);\n",
       "          console.log(\"Bokeh: ERROR: Unable to run BokehJS code because BokehJS library is missing\");\n",
       "        }\n",
       "      }\n",
       "    }, 10, root)\n",
       "  }\n",
       "})(window);"
      ],
      "application/vnd.bokehjs_exec.v0+json": ""
     },
     "metadata": {
      "application/vnd.bokehjs_exec.v0+json": {
       "id": "1110"
      }
     },
     "output_type": "display_data"
    }
   ],
   "source": [
    "from bokeh.layouts import gridplot\n",
    "\n",
    "x = list(range(11))\n",
    "y0, y1, y2 = x, [10-i for i in x], [abs(i-5) for i in x]\n",
    "\n",
    "plot_options = dict(width=250, plot_height=250, tools='pan,wheel_zoom')\n",
    "\n",
    "# create a new plot\n",
    "s1 = figure(**plot_options)\n",
    "s1.circle(x, y0, size=10, color=\"navy\")\n",
    "\n",
    "# create a new plot and share both ranges\n",
    "s2 = figure(x_range=s1.x_range, y_range=s1.y_range, **plot_options)\n",
    "s2.triangle(x, y1, size=10, color=\"firebrick\")\n",
    "\n",
    "# create a new plot and share only one range\n",
    "s3 = figure(x_range=s1.x_range, **plot_options)\n",
    "s3.square(x, y2, size=10, color=\"olive\")\n",
    "\n",
    "p = gridplot([[s1, s2, s3]])\n",
    "\n",
    "# show the results\n",
    "show(p)"
   ]
  },
  {
   "cell_type": "code",
   "execution_count": 3,
   "metadata": {},
   "outputs": [],
   "source": [
    "# EXERCISE: create two plots in a gridplot, and link their ranges\n"
   ]
  },
  {
   "cell_type": "markdown",
   "metadata": {},
   "source": [
    "## Linked brushing\n",
    "\n",
    "Linking selections is accomplished similarly, by sharing data sources between plots. Note that normally with ``bokeh.plotting`` and ``bokeh.charts`` creating a default data source for simple plots is handled automatically. However to share a data source, we must create them by hand and pass them explicitly. This is illustrated in the example below:"
   ]
  },
  {
   "cell_type": "code",
   "execution_count": 4,
   "metadata": {},
   "outputs": [
    {
     "data": {
      "text/html": [
       "\n",
       "\n",
       "\n",
       "\n",
       "\n",
       "\n",
       "  <div class=\"bk-root\" id=\"e09f5d05-6937-4098-a38b-5103fe4dc9c6\" data-root-id=\"1367\"></div>\n"
      ]
     },
     "metadata": {},
     "output_type": "display_data"
    },
    {
     "data": {
      "application/javascript": [
       "(function(root) {\n",
       "  function embed_document(root) {\n",
       "    \n",
       "  var docs_json = {\"62b49733-f748-4960-b4f8-7f9db17d70db\":{\"roots\":{\"references\":[{\"attributes\":{\"children\":[{\"id\":\"1366\"},{\"id\":\"1364\"}]},\"id\":\"1367\",\"type\":\"Column\"},{\"attributes\":{\"text\":\"\"},\"id\":\"1343\",\"type\":\"Title\"},{\"attributes\":{},\"id\":\"1294\",\"type\":\"BasicTicker\"},{\"attributes\":{},\"id\":\"1290\",\"type\":\"BasicTicker\"},{\"attributes\":{},\"id\":\"1346\",\"type\":\"BasicTickFormatter\"},{\"attributes\":{\"axis\":{\"id\":\"1289\"},\"ticker\":null},\"id\":\"1292\",\"type\":\"Grid\"},{\"attributes\":{\"bottom_units\":\"screen\",\"fill_alpha\":0.5,\"fill_color\":\"lightgrey\",\"left_units\":\"screen\",\"level\":\"overlay\",\"line_alpha\":1.0,\"line_color\":\"black\",\"line_dash\":[4,4],\"line_width\":2,\"render_mode\":\"css\",\"right_units\":\"screen\",\"top_units\":\"screen\"},\"id\":\"1300\",\"type\":\"BoxAnnotation\"},{\"attributes\":{},\"id\":\"1351\",\"type\":\"UnionRenderers\"},{\"attributes\":{},\"id\":\"1350\",\"type\":\"Selection\"},{\"attributes\":{},\"id\":\"1330\",\"type\":\"HelpTool\"},{\"attributes\":{\"axis\":{\"id\":\"1293\"},\"dimension\":1,\"ticker\":null},\"id\":\"1296\",\"type\":\"Grid\"},{\"attributes\":{},\"id\":\"1318\",\"type\":\"LinearScale\"},{\"attributes\":{},\"id\":\"1344\",\"type\":\"BasicTickFormatter\"},{\"attributes\":{\"formatter\":{\"id\":\"1344\"},\"ticker\":{\"id\":\"1294\"}},\"id\":\"1293\",\"type\":\"LinearAxis\"},{\"attributes\":{\"axis\":{\"id\":\"1320\"},\"ticker\":null},\"id\":\"1323\",\"type\":\"Grid\"},{\"attributes\":{\"fill_alpha\":0.5,\"fill_color\":\"lightgrey\",\"level\":\"overlay\",\"line_alpha\":1.0,\"line_color\":\"black\",\"line_dash\":[4,4],\"line_width\":2,\"xs_units\":\"screen\",\"ys_units\":\"screen\"},\"id\":\"1301\",\"type\":\"PolyAnnotation\"},{\"attributes\":{\"data\":{\"x\":[-20,-19,-18,-17,-16,-15,-14,-13,-12,-11,-10,-9,-8,-7,-6,-5,-4,-3,-2,-1,0,1,2,3,4,5,6,7,8,9,10,11,12,13,14,15,16,17,18,19,20],\"y0\":[20,19,18,17,16,15,14,13,12,11,10,9,8,7,6,5,4,3,2,1,0,1,2,3,4,5,6,7,8,9,10,11,12,13,14,15,16,17,18,19,20],\"y1\":[400,361,324,289,256,225,196,169,144,121,100,81,64,49,36,25,16,9,4,1,0,1,4,9,16,25,36,49,64,81,100,121,144,169,196,225,256,289,324,361,400]},\"selected\":{\"id\":\"1350\"},\"selection_policy\":{\"id\":\"1351\"}},\"id\":\"1279\",\"type\":\"ColumnDataSource\"},{\"attributes\":{\"formatter\":{\"id\":\"1346\"},\"ticker\":{\"id\":\"1290\"}},\"id\":\"1289\",\"type\":\"LinearAxis\"},{\"attributes\":{},\"id\":\"1325\",\"type\":\"BasicTicker\"},{\"attributes\":{\"overlay\":{\"id\":\"1332\"}},\"id\":\"1329\",\"type\":\"LassoSelectTool\"},{\"attributes\":{\"fill_alpha\":{\"value\":0.1},\"fill_color\":{\"value\":\"#1f77b4\"},\"line_alpha\":{\"value\":0.1},\"line_color\":{\"value\":\"#1f77b4\"},\"x\":{\"field\":\"x\"},\"y\":{\"field\":\"y0\"}},\"id\":\"1308\",\"type\":\"Circle\"},{\"attributes\":{\"below\":[{\"id\":\"1320\"}],\"center\":[{\"id\":\"1323\"},{\"id\":\"1327\"}],\"left\":[{\"id\":\"1324\"}],\"plot_height\":300,\"plot_width\":300,\"renderers\":[{\"id\":\"1340\"}],\"title\":{\"id\":\"1354\"},\"toolbar\":{\"id\":\"1333\"},\"toolbar_location\":null,\"x_range\":{\"id\":\"1312\"},\"x_scale\":{\"id\":\"1316\"},\"y_range\":{\"id\":\"1314\"},\"y_scale\":{\"id\":\"1318\"}},\"id\":\"1311\",\"subtype\":\"Figure\",\"type\":\"Plot\"},{\"attributes\":{\"fill_alpha\":{\"value\":0.1},\"fill_color\":{\"value\":\"#1f77b4\"},\"line_alpha\":{\"value\":0.1},\"line_color\":{\"value\":\"#1f77b4\"},\"x\":{\"field\":\"x\"},\"y\":{\"field\":\"y1\"}},\"id\":\"1339\",\"type\":\"Circle\"},{\"attributes\":{},\"id\":\"1321\",\"type\":\"BasicTicker\"},{\"attributes\":{\"overlay\":{\"id\":\"1300\"}},\"id\":\"1297\",\"type\":\"BoxSelectTool\"},{\"attributes\":{\"text\":\"\"},\"id\":\"1354\",\"type\":\"Title\"},{\"attributes\":{\"formatter\":{\"id\":\"1355\"},\"ticker\":{\"id\":\"1325\"}},\"id\":\"1324\",\"type\":\"LinearAxis\"},{\"attributes\":{},\"id\":\"1281\",\"type\":\"DataRange1d\"},{\"attributes\":{\"overlay\":{\"id\":\"1301\"}},\"id\":\"1298\",\"type\":\"LassoSelectTool\"},{\"attributes\":{},\"id\":\"1355\",\"type\":\"BasicTickFormatter\"},{\"attributes\":{\"axis\":{\"id\":\"1324\"},\"dimension\":1,\"ticker\":null},\"id\":\"1327\",\"type\":\"Grid\"},{\"attributes\":{},\"id\":\"1299\",\"type\":\"HelpTool\"},{\"attributes\":{\"formatter\":{\"id\":\"1357\"},\"ticker\":{\"id\":\"1321\"}},\"id\":\"1320\",\"type\":\"LinearAxis\"},{\"attributes\":{\"bottom_units\":\"screen\",\"fill_alpha\":0.5,\"fill_color\":\"lightgrey\",\"left_units\":\"screen\",\"level\":\"overlay\",\"line_alpha\":1.0,\"line_color\":\"black\",\"line_dash\":[4,4],\"line_width\":2,\"render_mode\":\"css\",\"right_units\":\"screen\",\"top_units\":\"screen\"},\"id\":\"1331\",\"type\":\"BoxAnnotation\"},{\"attributes\":{},\"id\":\"1314\",\"type\":\"DataRange1d\"},{\"attributes\":{\"below\":[{\"id\":\"1289\"}],\"center\":[{\"id\":\"1292\"},{\"id\":\"1296\"}],\"left\":[{\"id\":\"1293\"}],\"plot_height\":300,\"plot_width\":300,\"renderers\":[{\"id\":\"1309\"}],\"title\":{\"id\":\"1343\"},\"toolbar\":{\"id\":\"1302\"},\"toolbar_location\":null,\"x_range\":{\"id\":\"1281\"},\"x_scale\":{\"id\":\"1285\"},\"y_range\":{\"id\":\"1283\"},\"y_scale\":{\"id\":\"1287\"}},\"id\":\"1280\",\"subtype\":\"Figure\",\"type\":\"Plot\"},{\"attributes\":{\"active_drag\":\"auto\",\"active_inspect\":\"auto\",\"active_multi\":null,\"active_scroll\":\"auto\",\"active_tap\":\"auto\",\"tools\":[{\"id\":\"1297\"},{\"id\":\"1298\"},{\"id\":\"1299\"}]},\"id\":\"1302\",\"type\":\"Toolbar\"},{\"attributes\":{\"fill_color\":{\"value\":\"#1f77b4\"},\"line_color\":{\"value\":\"#1f77b4\"},\"x\":{\"field\":\"x\"},\"y\":{\"field\":\"y0\"}},\"id\":\"1307\",\"type\":\"Circle\"},{\"attributes\":{\"fill_alpha\":0.5,\"fill_color\":\"lightgrey\",\"level\":\"overlay\",\"line_alpha\":1.0,\"line_color\":\"black\",\"line_dash\":[4,4],\"line_width\":2,\"xs_units\":\"screen\",\"ys_units\":\"screen\"},\"id\":\"1332\",\"type\":\"PolyAnnotation\"},{\"attributes\":{\"source\":{\"id\":\"1279\"}},\"id\":\"1310\",\"type\":\"CDSView\"},{\"attributes\":{\"overlay\":{\"id\":\"1331\"}},\"id\":\"1328\",\"type\":\"BoxSelectTool\"},{\"attributes\":{},\"id\":\"1283\",\"type\":\"DataRange1d\"},{\"attributes\":{},\"id\":\"1312\",\"type\":\"DataRange1d\"},{\"attributes\":{},\"id\":\"1285\",\"type\":\"LinearScale\"},{\"attributes\":{\"fill_color\":{\"value\":\"#1f77b4\"},\"line_color\":{\"value\":\"#1f77b4\"},\"x\":{\"field\":\"x\"},\"y\":{\"field\":\"y1\"}},\"id\":\"1338\",\"type\":\"Circle\"},{\"attributes\":{\"children\":[[{\"id\":\"1280\"},0,0],[{\"id\":\"1311\"},0,1]]},\"id\":\"1364\",\"type\":\"GridBox\"},{\"attributes\":{},\"id\":\"1316\",\"type\":\"LinearScale\"},{\"attributes\":{\"source\":{\"id\":\"1279\"}},\"id\":\"1341\",\"type\":\"CDSView\"},{\"attributes\":{\"toolbar\":{\"id\":\"1365\"},\"toolbar_location\":\"above\"},\"id\":\"1366\",\"type\":\"ToolbarBox\"},{\"attributes\":{\"active_drag\":\"auto\",\"active_inspect\":\"auto\",\"active_multi\":null,\"active_scroll\":\"auto\",\"active_tap\":\"auto\",\"tools\":[{\"id\":\"1328\"},{\"id\":\"1329\"},{\"id\":\"1330\"}]},\"id\":\"1333\",\"type\":\"Toolbar\"},{\"attributes\":{\"data_source\":{\"id\":\"1279\"},\"glyph\":{\"id\":\"1338\"},\"hover_glyph\":null,\"muted_glyph\":null,\"nonselection_glyph\":{\"id\":\"1339\"},\"selection_glyph\":null,\"view\":{\"id\":\"1341\"}},\"id\":\"1340\",\"type\":\"GlyphRenderer\"},{\"attributes\":{\"data_source\":{\"id\":\"1279\"},\"glyph\":{\"id\":\"1307\"},\"hover_glyph\":null,\"muted_glyph\":null,\"nonselection_glyph\":{\"id\":\"1308\"},\"selection_glyph\":null,\"view\":{\"id\":\"1310\"}},\"id\":\"1309\",\"type\":\"GlyphRenderer\"},{\"attributes\":{},\"id\":\"1287\",\"type\":\"LinearScale\"},{\"attributes\":{},\"id\":\"1357\",\"type\":\"BasicTickFormatter\"},{\"attributes\":{\"toolbars\":[{\"id\":\"1302\"},{\"id\":\"1333\"}],\"tools\":[{\"id\":\"1297\"},{\"id\":\"1298\"},{\"id\":\"1299\"},{\"id\":\"1328\"},{\"id\":\"1329\"},{\"id\":\"1330\"}]},\"id\":\"1365\",\"type\":\"ProxyToolbar\"}],\"root_ids\":[\"1367\"]},\"title\":\"Bokeh Application\",\"version\":\"2.0.2\"}};\n",
       "  var render_items = [{\"docid\":\"62b49733-f748-4960-b4f8-7f9db17d70db\",\"root_ids\":[\"1367\"],\"roots\":{\"1367\":\"e09f5d05-6937-4098-a38b-5103fe4dc9c6\"}}];\n",
       "  root.Bokeh.embed.embed_items_notebook(docs_json, render_items);\n",
       "\n",
       "  }\n",
       "  if (root.Bokeh !== undefined) {\n",
       "    embed_document(root);\n",
       "  } else {\n",
       "    var attempts = 0;\n",
       "    var timer = setInterval(function(root) {\n",
       "      if (root.Bokeh !== undefined) {\n",
       "        clearInterval(timer);\n",
       "        embed_document(root);\n",
       "      } else {\n",
       "        attempts++;\n",
       "        if (attempts > 100) {\n",
       "          clearInterval(timer);\n",
       "          console.log(\"Bokeh: ERROR: Unable to run BokehJS code because BokehJS library is missing\");\n",
       "        }\n",
       "      }\n",
       "    }, 10, root)\n",
       "  }\n",
       "})(window);"
      ],
      "application/vnd.bokehjs_exec.v0+json": ""
     },
     "metadata": {
      "application/vnd.bokehjs_exec.v0+json": {
       "id": "1367"
      }
     },
     "output_type": "display_data"
    }
   ],
   "source": [
    "from bokeh.models import ColumnDataSource\n",
    "\n",
    "x = list(range(-20, 21))\n",
    "y0, y1 = [abs(xx) for xx in x], [xx**2 for xx in x]\n",
    "\n",
    "# create a column data source for the plots to share\n",
    "source = ColumnDataSource(data=dict(x=x, y0=y0, y1=y1))\n",
    "\n",
    "TOOLS = \"box_select,lasso_select,help\"\n",
    "\n",
    "# create a new plot and add a renderer\n",
    "left = figure(tools=TOOLS, width=300, height=300)\n",
    "left.circle('x', 'y0', source=source)\n",
    "\n",
    "# create another new plot and add a renderer\n",
    "right = figure(tools=TOOLS, width=300, height=300)\n",
    "right.circle('x', 'y1', source=source)\n",
    "\n",
    "p = gridplot([[left, right]])\n",
    "\n",
    "show(p)"
   ]
  },
  {
   "cell_type": "code",
   "execution_count": 5,
   "metadata": {},
   "outputs": [],
   "source": [
    "# EXERCISE: create two plots in a gridplot, and link their data sources\n",
    "\n"
   ]
  },
  {
   "cell_type": "markdown",
   "metadata": {},
   "source": [
    "# Hover Tools\n",
    "\n",
    "Bokeh has a Hover Tool that allows additional information to be displayed in a popup whenever the user hovers over a specific glyph. Basic hover tool configuration amounts to providing a list of ``(name, format)`` tuples. The full details can be found in the User's Guide [here](https://bokeh.pydata.org/en/latest/docs/user_guide/tools.html#hovertool).\n",
    "\n",
    "The example below shows some basic usage of the Hover tool with a circle glyph, using hover information defined in utils.py:"
   ]
  },
  {
   "cell_type": "code",
   "execution_count": 6,
   "metadata": {},
   "outputs": [
    {
     "data": {
      "text/html": [
       "\n",
       "\n",
       "\n",
       "\n",
       "\n",
       "\n",
       "  <div class=\"bk-root\" id=\"684f68d3-a81b-428d-b67c-365bba8f9ee4\" data-root-id=\"1522\"></div>\n"
      ]
     },
     "metadata": {},
     "output_type": "display_data"
    },
    {
     "data": {
      "application/javascript": [
       "(function(root) {\n",
       "  function embed_document(root) {\n",
       "    \n",
       "  var docs_json = {\"422fd432-c9df-4106-86c3-713cf030d158\":{\"roots\":{\"references\":[{\"attributes\":{\"below\":[{\"id\":\"1533\"}],\"center\":[{\"id\":\"1536\"},{\"id\":\"1540\"}],\"left\":[{\"id\":\"1537\"}],\"plot_height\":300,\"plot_width\":300,\"renderers\":[{\"id\":\"1546\"}],\"title\":{\"id\":\"1523\"},\"toolbar\":{\"id\":\"1541\"},\"x_range\":{\"id\":\"1525\"},\"x_scale\":{\"id\":\"1529\"},\"y_range\":{\"id\":\"1527\"},\"y_scale\":{\"id\":\"1531\"}},\"id\":\"1522\",\"subtype\":\"Figure\",\"type\":\"Plot\"},{\"attributes\":{\"text\":\"Mouse over the dots\"},\"id\":\"1523\",\"type\":\"Title\"},{\"attributes\":{},\"id\":\"1591\",\"type\":\"BasicTickFormatter\"},{\"attributes\":{},\"id\":\"1595\",\"type\":\"Selection\"},{\"attributes\":{},\"id\":\"1525\",\"type\":\"DataRange1d\"},{\"attributes\":{},\"id\":\"1596\",\"type\":\"UnionRenderers\"},{\"attributes\":{},\"id\":\"1529\",\"type\":\"LinearScale\"},{\"attributes\":{},\"id\":\"1527\",\"type\":\"DataRange1d\"},{\"attributes\":{\"data\":{\"desc\":[\"A\",\"b\",\"C\",\"d\",\"E\"],\"x\":[1,2,3,4,5],\"y\":[2,5,8,2,7]},\"selected\":{\"id\":\"1595\"},\"selection_policy\":{\"id\":\"1596\"}},\"id\":\"1520\",\"type\":\"ColumnDataSource\"},{\"attributes\":{},\"id\":\"1593\",\"type\":\"BasicTickFormatter\"},{\"attributes\":{},\"id\":\"1531\",\"type\":\"LinearScale\"},{\"attributes\":{\"source\":{\"id\":\"1520\"}},\"id\":\"1547\",\"type\":\"CDSView\"},{\"attributes\":{\"fill_alpha\":{\"value\":0.1},\"fill_color\":{\"value\":\"#1f77b4\"},\"line_alpha\":{\"value\":0.1},\"line_color\":{\"value\":\"#1f77b4\"},\"size\":{\"units\":\"screen\",\"value\":20},\"x\":{\"field\":\"x\"},\"y\":{\"field\":\"y\"}},\"id\":\"1545\",\"type\":\"Circle\"},{\"attributes\":{\"data_source\":{\"id\":\"1520\"},\"glyph\":{\"id\":\"1544\"},\"hover_glyph\":null,\"muted_glyph\":null,\"nonselection_glyph\":{\"id\":\"1545\"},\"selection_glyph\":null,\"view\":{\"id\":\"1547\"}},\"id\":\"1546\",\"type\":\"GlyphRenderer\"},{\"attributes\":{\"formatter\":{\"id\":\"1593\"},\"ticker\":{\"id\":\"1534\"}},\"id\":\"1533\",\"type\":\"LinearAxis\"},{\"attributes\":{},\"id\":\"1538\",\"type\":\"BasicTicker\"},{\"attributes\":{},\"id\":\"1534\",\"type\":\"BasicTicker\"},{\"attributes\":{\"axis\":{\"id\":\"1533\"},\"ticker\":null},\"id\":\"1536\",\"type\":\"Grid\"},{\"attributes\":{\"axis\":{\"id\":\"1537\"},\"dimension\":1,\"ticker\":null},\"id\":\"1540\",\"type\":\"Grid\"},{\"attributes\":{\"fill_color\":{\"value\":\"#1f77b4\"},\"line_color\":{\"value\":\"#1f77b4\"},\"size\":{\"units\":\"screen\",\"value\":20},\"x\":{\"field\":\"x\"},\"y\":{\"field\":\"y\"}},\"id\":\"1544\",\"type\":\"Circle\"},{\"attributes\":{\"formatter\":{\"id\":\"1591\"},\"ticker\":{\"id\":\"1538\"}},\"id\":\"1537\",\"type\":\"LinearAxis\"},{\"attributes\":{\"active_drag\":\"auto\",\"active_inspect\":\"auto\",\"active_multi\":null,\"active_scroll\":\"auto\",\"active_tap\":\"auto\",\"tools\":[{\"id\":\"1521\"}]},\"id\":\"1541\",\"type\":\"Toolbar\"},{\"attributes\":{\"callback\":null,\"tooltips\":[[\"index\",\"$index\"],[\"(x,y)\",\"($x, $y)\"],[\"desc\",\"@desc\"]]},\"id\":\"1521\",\"type\":\"HoverTool\"}],\"root_ids\":[\"1522\"]},\"title\":\"Bokeh Application\",\"version\":\"2.0.2\"}};\n",
       "  var render_items = [{\"docid\":\"422fd432-c9df-4106-86c3-713cf030d158\",\"root_ids\":[\"1522\"],\"roots\":{\"1522\":\"684f68d3-a81b-428d-b67c-365bba8f9ee4\"}}];\n",
       "  root.Bokeh.embed.embed_items_notebook(docs_json, render_items);\n",
       "\n",
       "  }\n",
       "  if (root.Bokeh !== undefined) {\n",
       "    embed_document(root);\n",
       "  } else {\n",
       "    var attempts = 0;\n",
       "    var timer = setInterval(function(root) {\n",
       "      if (root.Bokeh !== undefined) {\n",
       "        clearInterval(timer);\n",
       "        embed_document(root);\n",
       "      } else {\n",
       "        attempts++;\n",
       "        if (attempts > 100) {\n",
       "          clearInterval(timer);\n",
       "          console.log(\"Bokeh: ERROR: Unable to run BokehJS code because BokehJS library is missing\");\n",
       "        }\n",
       "      }\n",
       "    }, 10, root)\n",
       "  }\n",
       "})(window);"
      ],
      "application/vnd.bokehjs_exec.v0+json": ""
     },
     "metadata": {
      "application/vnd.bokehjs_exec.v0+json": {
       "id": "1522"
      }
     },
     "output_type": "display_data"
    }
   ],
   "source": [
    "from bokeh.models import HoverTool\n",
    "\n",
    "source = ColumnDataSource(\n",
    "        data=dict(\n",
    "            x=[1, 2, 3, 4, 5],\n",
    "            y=[2, 5, 8, 2, 7],\n",
    "            desc=['A', 'b', 'C', 'd', 'E'],\n",
    "        )\n",
    "    )\n",
    "\n",
    "hover = HoverTool(\n",
    "        tooltips=[\n",
    "            (\"index\", \"$index\"),\n",
    "            (\"(x,y)\", \"($x, $y)\"),\n",
    "            (\"desc\", \"@desc\"),\n",
    "        ]\n",
    "    )\n",
    "\n",
    "p = figure(plot_width=300, plot_height=300, tools=[hover], title=\"Mouse over the dots\")\n",
    "\n",
    "p.circle('x', 'y', size=20, source=source)\n",
    "\n",
    "show(p)"
   ]
  },
  {
   "cell_type": "markdown",
   "metadata": {},
   "source": [
    "# Widgets"
   ]
  },
  {
   "cell_type": "markdown",
   "metadata": {},
   "source": [
    "Bokeh supports direct integration with a small basic widget set. These can be used in conjunction with a Bokeh Server, or with ``CustomJS`` models to add more interactive capability to your documents. You can see a complete list, with example code in the [Adding Widgets](https://bokeh.pydata.org/en/latest/docs/user_guide/interaction.html#adding-widgets) section of the User's Guide. \n",
    "\n",
    "\n",
    "\n",
    "*NOTE: In this Tutorial chapter, we will focus on using widgets with JavaScript callbacks. The Tutorial chapter on Bokeh server applications covers using Bokeh widgets with real Python callbacks*\n",
    "\n",
    "\n",
    "\n",
    "\n",
    "To use the widgets, include them in a layout like you would a plot object:"
   ]
  },
  {
   "cell_type": "code",
   "execution_count": 7,
   "metadata": {},
   "outputs": [
    {
     "data": {
      "text/html": [
       "\n",
       "\n",
       "\n",
       "\n",
       "\n",
       "\n",
       "  <div class=\"bk-root\" id=\"3d48abda-2bd3-4c6f-8fda-7a8b70cc023e\" data-root-id=\"1639\"></div>\n"
      ]
     },
     "metadata": {},
     "output_type": "display_data"
    },
    {
     "data": {
      "application/javascript": [
       "(function(root) {\n",
       "  function embed_document(root) {\n",
       "    \n",
       "  var docs_json = {\"d8fd501e-f9de-4d58-ba52-59fa3eb1fa01\":{\"roots\":{\"references\":[{\"attributes\":{\"end\":10,\"format\":\"0[.]00\",\"start\":0,\"step\":0.1,\"title\":\"foo\",\"value\":1},\"id\":\"1639\",\"type\":\"Slider\"}],\"root_ids\":[\"1639\"]},\"title\":\"Bokeh Application\",\"version\":\"2.0.2\"}};\n",
       "  var render_items = [{\"docid\":\"d8fd501e-f9de-4d58-ba52-59fa3eb1fa01\",\"root_ids\":[\"1639\"],\"roots\":{\"1639\":\"3d48abda-2bd3-4c6f-8fda-7a8b70cc023e\"}}];\n",
       "  root.Bokeh.embed.embed_items_notebook(docs_json, render_items);\n",
       "\n",
       "  }\n",
       "  if (root.Bokeh !== undefined) {\n",
       "    embed_document(root);\n",
       "  } else {\n",
       "    var attempts = 0;\n",
       "    var timer = setInterval(function(root) {\n",
       "      if (root.Bokeh !== undefined) {\n",
       "        clearInterval(timer);\n",
       "        embed_document(root);\n",
       "      } else {\n",
       "        attempts++;\n",
       "        if (attempts > 100) {\n",
       "          clearInterval(timer);\n",
       "          console.log(\"Bokeh: ERROR: Unable to run BokehJS code because BokehJS library is missing\");\n",
       "        }\n",
       "      }\n",
       "    }, 10, root)\n",
       "  }\n",
       "})(window);"
      ],
      "application/vnd.bokehjs_exec.v0+json": ""
     },
     "metadata": {
      "application/vnd.bokehjs_exec.v0+json": {
       "id": "1639"
      }
     },
     "output_type": "display_data"
    }
   ],
   "source": [
    "from bokeh.models.widgets import Slider\n",
    "\n",
    "\n",
    "slider = Slider(start=0, end=10, value=1, step=.1, title=\"foo\")\n",
    "\n",
    "show(slider)"
   ]
  },
  {
   "cell_type": "code",
   "execution_count": 8,
   "metadata": {},
   "outputs": [],
   "source": [
    "# EXERCISE: create and show a Select widget \n"
   ]
  },
  {
   "cell_type": "markdown",
   "metadata": {},
   "source": [
    "# CustomJS Callbacks\n",
    "\n",
    "In order for a widget to be useful, it needs to be able to perform some action. Using the Bokeh server, it is possible to have widgets trigger real Python code. That possibility will be explored in the Bokeh server chapter of the tutorial. Here, we look at how widgets can be configured with `CustomJS` callbacks that execute snippets of JavaScript code. "
   ]
  },
  {
   "cell_type": "code",
   "execution_count": 9,
   "metadata": {},
   "outputs": [
    {
     "data": {
      "text/html": [
       "\n",
       "\n",
       "\n",
       "\n",
       "\n",
       "\n",
       "  <div class=\"bk-root\" id=\"d182af20-3e47-4c5e-bb82-5ffbc6e8c23b\" data-root-id=\"1691\"></div>\n"
      ]
     },
     "metadata": {},
     "output_type": "display_data"
    },
    {
     "data": {
      "application/javascript": [
       "(function(root) {\n",
       "  function embed_document(root) {\n",
       "    \n",
       "  var docs_json = {\"c476bc87-dff0-4db8-8d5f-180d974a9beb\":{\"roots\":{\"references\":[{\"attributes\":{\"below\":[{\"id\":\"1700\"}],\"center\":[{\"id\":\"1703\"},{\"id\":\"1707\"}],\"left\":[{\"id\":\"1704\"}],\"plot_height\":300,\"renderers\":[{\"id\":\"1713\"}],\"title\":{\"id\":\"1765\"},\"toolbar\":{\"id\":\"1708\"},\"x_range\":{\"id\":\"1692\"},\"x_scale\":{\"id\":\"1696\"},\"y_range\":{\"id\":\"1694\"},\"y_scale\":{\"id\":\"1698\"}},\"id\":\"1691\",\"subtype\":\"Figure\",\"type\":\"Plot\"},{\"attributes\":{},\"id\":\"1768\",\"type\":\"BasicTickFormatter\"},{\"attributes\":{\"formatter\":{\"id\":\"1766\"},\"ticker\":{\"id\":\"1705\"}},\"id\":\"1704\",\"type\":\"LinearAxis\"},{\"attributes\":{\"code\":\"alert('you tapped a circle!')\"},\"id\":\"1689\",\"type\":\"CustomJS\"},{\"attributes\":{\"active_drag\":\"auto\",\"active_inspect\":\"auto\",\"active_multi\":null,\"active_scroll\":\"auto\",\"active_tap\":\"auto\",\"tools\":[{\"id\":\"1690\"}]},\"id\":\"1708\",\"type\":\"Toolbar\"},{\"attributes\":{\"callback\":{\"id\":\"1689\"}},\"id\":\"1690\",\"type\":\"TapTool\"},{\"attributes\":{},\"id\":\"1766\",\"type\":\"BasicTickFormatter\"},{\"attributes\":{},\"id\":\"1701\",\"type\":\"BasicTicker\"},{\"attributes\":{},\"id\":\"1771\",\"type\":\"UnionRenderers\"},{\"attributes\":{},\"id\":\"1696\",\"type\":\"LinearScale\"},{\"attributes\":{\"data\":{\"x\":[1,2,3,4,5],\"y\":[2,5,8,2,7]},\"selected\":{\"id\":\"1770\"},\"selection_policy\":{\"id\":\"1771\"}},\"id\":\"1710\",\"type\":\"ColumnDataSource\"},{\"attributes\":{},\"id\":\"1692\",\"type\":\"DataRange1d\"},{\"attributes\":{\"fill_color\":{\"value\":\"#1f77b4\"},\"line_color\":{\"value\":\"#1f77b4\"},\"size\":{\"units\":\"screen\",\"value\":20},\"x\":{\"field\":\"x\"},\"y\":{\"field\":\"y\"}},\"id\":\"1711\",\"type\":\"Circle\"},{\"attributes\":{},\"id\":\"1705\",\"type\":\"BasicTicker\"},{\"attributes\":{\"source\":{\"id\":\"1710\"}},\"id\":\"1714\",\"type\":\"CDSView\"},{\"attributes\":{},\"id\":\"1694\",\"type\":\"DataRange1d\"},{\"attributes\":{\"fill_alpha\":{\"value\":0.1},\"fill_color\":{\"value\":\"#1f77b4\"},\"line_alpha\":{\"value\":0.1},\"line_color\":{\"value\":\"#1f77b4\"},\"size\":{\"units\":\"screen\",\"value\":20},\"x\":{\"field\":\"x\"},\"y\":{\"field\":\"y\"}},\"id\":\"1712\",\"type\":\"Circle\"},{\"attributes\":{},\"id\":\"1770\",\"type\":\"Selection\"},{\"attributes\":{},\"id\":\"1698\",\"type\":\"LinearScale\"},{\"attributes\":{\"data_source\":{\"id\":\"1710\"},\"glyph\":{\"id\":\"1711\"},\"hover_glyph\":null,\"muted_glyph\":null,\"nonselection_glyph\":{\"id\":\"1712\"},\"selection_glyph\":null,\"view\":{\"id\":\"1714\"}},\"id\":\"1713\",\"type\":\"GlyphRenderer\"},{\"attributes\":{\"axis\":{\"id\":\"1700\"},\"ticker\":null},\"id\":\"1703\",\"type\":\"Grid\"},{\"attributes\":{\"text\":\"\"},\"id\":\"1765\",\"type\":\"Title\"},{\"attributes\":{\"formatter\":{\"id\":\"1768\"},\"ticker\":{\"id\":\"1701\"}},\"id\":\"1700\",\"type\":\"LinearAxis\"},{\"attributes\":{\"axis\":{\"id\":\"1704\"},\"dimension\":1,\"ticker\":null},\"id\":\"1707\",\"type\":\"Grid\"}],\"root_ids\":[\"1691\"]},\"title\":\"Bokeh Application\",\"version\":\"2.0.2\"}};\n",
       "  var render_items = [{\"docid\":\"c476bc87-dff0-4db8-8d5f-180d974a9beb\",\"root_ids\":[\"1691\"],\"roots\":{\"1691\":\"d182af20-3e47-4c5e-bb82-5ffbc6e8c23b\"}}];\n",
       "  root.Bokeh.embed.embed_items_notebook(docs_json, render_items);\n",
       "\n",
       "  }\n",
       "  if (root.Bokeh !== undefined) {\n",
       "    embed_document(root);\n",
       "  } else {\n",
       "    var attempts = 0;\n",
       "    var timer = setInterval(function(root) {\n",
       "      if (root.Bokeh !== undefined) {\n",
       "        clearInterval(timer);\n",
       "        embed_document(root);\n",
       "      } else {\n",
       "        attempts++;\n",
       "        if (attempts > 100) {\n",
       "          clearInterval(timer);\n",
       "          console.log(\"Bokeh: ERROR: Unable to run BokehJS code because BokehJS library is missing\");\n",
       "        }\n",
       "      }\n",
       "    }, 10, root)\n",
       "  }\n",
       "})(window);"
      ],
      "application/vnd.bokehjs_exec.v0+json": ""
     },
     "metadata": {
      "application/vnd.bokehjs_exec.v0+json": {
       "id": "1691"
      }
     },
     "output_type": "display_data"
    }
   ],
   "source": [
    "from bokeh.models import TapTool, CustomJS, ColumnDataSource\n",
    "\n",
    "callback = CustomJS(code=\"alert('you tapped a circle!')\")\n",
    "tap = TapTool(callback=callback)\n",
    "\n",
    "p = figure(plot_width=600, plot_height=300, tools=[tap])\n",
    "\n",
    "p.circle(x=[1, 2, 3, 4, 5], y=[2, 5, 8, 2, 7], size=20)\n",
    "\n",
    "show(p)"
   ]
  },
  {
   "cell_type": "markdown",
   "metadata": {},
   "source": [
    "## CustomJS for Property changes\n",
    "\n",
    "Bokeh objects that have values associated can have small JavaScript actions attached to them using the `js_on_change` method. These actions (also referred to as \"callbacks\") are executed whenever the widget's value is changed. In order to make it easier to refer to specific Bokeh models (e.g., a data source, or a glyph) from JavaScript, the ``CustomJS`` object also accepts a dictionary of \"args\" that map names to Python Bokeh models. The corresponding JavaScript models are made available automatically to the ``CustomJS`` code:\n",
    "\n",
    "```python\n",
    "CustomJS(args=dict(source=source, slider=slider), code=\"\"\"\n",
    "    // easily refer to BokehJS source and slider objects in this JS code\n",
    "    var data = source.data;\n",
    "    var f = slider.value;\n",
    "\"\"\")\n",
    "```"
   ]
  },
  {
   "cell_type": "markdown",
   "metadata": {},
   "source": [
    "### Slider widget example\n",
    "\n",
    "The example below shows an action attached to a slider that updates a data source whenever the slider is moved.  "
   ]
  },
  {
   "cell_type": "code",
   "execution_count": 10,
   "metadata": {},
   "outputs": [
    {
     "data": {
      "text/html": [
       "\n",
       "\n",
       "\n",
       "\n",
       "\n",
       "\n",
       "  <div class=\"bk-root\" id=\"d52c48b0-4730-4b33-abb4-f9f45507407b\" data-root-id=\"1859\"></div>\n"
      ]
     },
     "metadata": {},
     "output_type": "display_data"
    },
    {
     "data": {
      "application/javascript": [
       "(function(root) {\n",
       "  function embed_document(root) {\n",
       "    \n",
       "  var docs_json = {\"ce353b6a-7dc8-4492-a00d-482ca7592cb5\":{\"roots\":{\"references\":[{\"attributes\":{\"children\":[{\"id\":\"1857\"},{\"id\":\"1821\"}]},\"id\":\"1859\",\"type\":\"Column\"},{\"attributes\":{},\"id\":\"1828\",\"type\":\"LinearScale\"},{\"attributes\":{\"active_drag\":\"auto\",\"active_inspect\":\"auto\",\"active_multi\":null,\"active_scroll\":\"auto\",\"active_tap\":\"auto\",\"tools\":[{\"id\":\"1838\"},{\"id\":\"1839\"},{\"id\":\"1840\"},{\"id\":\"1841\"},{\"id\":\"1842\"},{\"id\":\"1843\"}]},\"id\":\"1845\",\"type\":\"Toolbar\"},{\"attributes\":{},\"id\":\"1826\",\"type\":\"LinearScale\"},{\"attributes\":{\"axis\":{\"id\":\"1834\"},\"dimension\":1,\"ticker\":null},\"id\":\"1837\",\"type\":\"Grid\"},{\"attributes\":{\"formatter\":{\"id\":\"1919\"},\"ticker\":{\"id\":\"1835\"}},\"id\":\"1834\",\"type\":\"LinearAxis\"},{\"attributes\":{\"below\":[{\"id\":\"1830\"}],\"center\":[{\"id\":\"1833\"},{\"id\":\"1837\"}],\"left\":[{\"id\":\"1834\"}],\"plot_height\":400,\"plot_width\":400,\"renderers\":[{\"id\":\"1855\"}],\"title\":{\"id\":\"1918\"},\"toolbar\":{\"id\":\"1845\"},\"x_range\":{\"id\":\"1822\"},\"x_scale\":{\"id\":\"1826\"},\"y_range\":{\"id\":\"1824\"},\"y_scale\":{\"id\":\"1828\"}},\"id\":\"1821\",\"subtype\":\"Figure\",\"type\":\"Plot\"},{\"attributes\":{},\"id\":\"1835\",\"type\":\"BasicTicker\"},{\"attributes\":{\"line_alpha\":0.1,\"line_color\":\"#1f77b4\",\"line_width\":3,\"x\":{\"field\":\"x\"},\"y\":{\"field\":\"y\"}},\"id\":\"1854\",\"type\":\"Line\"},{\"attributes\":{\"data_source\":{\"id\":\"1820\"},\"glyph\":{\"id\":\"1853\"},\"hover_glyph\":null,\"muted_glyph\":null,\"nonselection_glyph\":{\"id\":\"1854\"},\"selection_glyph\":null,\"view\":{\"id\":\"1856\"}},\"id\":\"1855\",\"type\":\"GlyphRenderer\"},{\"attributes\":{\"source\":{\"id\":\"1820\"}},\"id\":\"1856\",\"type\":\"CDSView\"},{\"attributes\":{\"bottom_units\":\"screen\",\"fill_alpha\":0.5,\"fill_color\":\"lightgrey\",\"left_units\":\"screen\",\"level\":\"overlay\",\"line_alpha\":1.0,\"line_color\":\"black\",\"line_dash\":[4,4],\"line_width\":2,\"render_mode\":\"css\",\"right_units\":\"screen\",\"top_units\":\"screen\"},\"id\":\"1844\",\"type\":\"BoxAnnotation\"},{\"attributes\":{\"end\":6,\"format\":\"0[.]00\",\"js_property_callbacks\":{\"change:value\":[{\"id\":\"1858\"}]},\"start\":0.1,\"step\":0.1,\"title\":\"power\",\"value\":1},\"id\":\"1857\",\"type\":\"Slider\"},{\"attributes\":{},\"id\":\"1831\",\"type\":\"BasicTicker\"},{\"attributes\":{},\"id\":\"1924\",\"type\":\"UnionRenderers\"},{\"attributes\":{},\"id\":\"1822\",\"type\":\"DataRange1d\"},{\"attributes\":{},\"id\":\"1824\",\"type\":\"DataRange1d\"},{\"attributes\":{},\"id\":\"1838\",\"type\":\"PanTool\"},{\"attributes\":{},\"id\":\"1923\",\"type\":\"Selection\"},{\"attributes\":{},\"id\":\"1839\",\"type\":\"WheelZoomTool\"},{\"attributes\":{\"data\":{\"x\":[0.0,0.005,0.01,0.015,0.02,0.025,0.03,0.035,0.04,0.045,0.05,0.055,0.06,0.065,0.07,0.075,0.08,0.085,0.09,0.095,0.1,0.105,0.11,0.115,0.12,0.125,0.13,0.135,0.14,0.145,0.15,0.155,0.16,0.165,0.17,0.17500000000000002,0.18,0.185,0.19,0.195,0.2,0.20500000000000002,0.21,0.215,0.22,0.225,0.23,0.23500000000000001,0.24,0.245,0.25,0.255,0.26,0.265,0.27,0.275,0.28,0.28500000000000003,0.29,0.295,0.3,0.305,0.31,0.315,0.32,0.325,0.33,0.335,0.34,0.34500000000000003,0.35000000000000003,0.355,0.36,0.365,0.37,0.375,0.38,0.385,0.39,0.395,0.4,0.405,0.41000000000000003,0.41500000000000004,0.42,0.425,0.43,0.435,0.44,0.445,0.45,0.455,0.46,0.465,0.47000000000000003,0.47500000000000003,0.48,0.485,0.49,0.495,0.5,0.505,0.51,0.515,0.52,0.525,0.53,0.535,0.54,0.545,0.55,0.555,0.56,0.5650000000000001,0.5700000000000001,0.5750000000000001,0.58,0.585,0.59,0.595,0.6,0.605,0.61,0.615,0.62,0.625,0.63,0.635,0.64,0.645,0.65,0.655,0.66,0.665,0.67,0.675,0.68,0.685,0.6900000000000001,0.6950000000000001,0.7000000000000001,0.705,0.71,0.715,0.72,0.725,0.73,0.735,0.74,0.745,0.75,0.755,0.76,0.765,0.77,0.775,0.78,0.785,0.79,0.795,0.8,0.805,0.81,0.8150000000000001,0.8200000000000001,0.8250000000000001,0.8300000000000001,0.835,0.84,0.845,0.85,0.855,0.86,0.865,0.87,0.875,0.88,0.885,0.89,0.895,0.9,0.905,0.91,0.915,0.92,0.925,0.93,0.935,0.9400000000000001,0.9450000000000001,0.9500000000000001,0.9550000000000001,0.96,0.965,0.97,0.975,0.98,0.985,0.99,0.995,1.0],\"y\":[0.0,0.005,0.01,0.015,0.02,0.025,0.03,0.035,0.04,0.045,0.05,0.055,0.06,0.065,0.07,0.075,0.08,0.085,0.09,0.095,0.1,0.105,0.11,0.115,0.12,0.125,0.13,0.135,0.14,0.145,0.15,0.155,0.16,0.165,0.17,0.17500000000000002,0.18,0.185,0.19,0.195,0.2,0.20500000000000002,0.21,0.215,0.22,0.225,0.23,0.23500000000000001,0.24,0.245,0.25,0.255,0.26,0.265,0.27,0.275,0.28,0.28500000000000003,0.29,0.295,0.3,0.305,0.31,0.315,0.32,0.325,0.33,0.335,0.34,0.34500000000000003,0.35000000000000003,0.355,0.36,0.365,0.37,0.375,0.38,0.385,0.39,0.395,0.4,0.405,0.41000000000000003,0.41500000000000004,0.42,0.425,0.43,0.435,0.44,0.445,0.45,0.455,0.46,0.465,0.47000000000000003,0.47500000000000003,0.48,0.485,0.49,0.495,0.5,0.505,0.51,0.515,0.52,0.525,0.53,0.535,0.54,0.545,0.55,0.555,0.56,0.5650000000000001,0.5700000000000001,0.5750000000000001,0.58,0.585,0.59,0.595,0.6,0.605,0.61,0.615,0.62,0.625,0.63,0.635,0.64,0.645,0.65,0.655,0.66,0.665,0.67,0.675,0.68,0.685,0.6900000000000001,0.6950000000000001,0.7000000000000001,0.705,0.71,0.715,0.72,0.725,0.73,0.735,0.74,0.745,0.75,0.755,0.76,0.765,0.77,0.775,0.78,0.785,0.79,0.795,0.8,0.805,0.81,0.8150000000000001,0.8200000000000001,0.8250000000000001,0.8300000000000001,0.835,0.84,0.845,0.85,0.855,0.86,0.865,0.87,0.875,0.88,0.885,0.89,0.895,0.9,0.905,0.91,0.915,0.92,0.925,0.93,0.935,0.9400000000000001,0.9450000000000001,0.9500000000000001,0.9550000000000001,0.96,0.965,0.97,0.975,0.98,0.985,0.99,0.995,1.0]},\"selected\":{\"id\":\"1923\"},\"selection_policy\":{\"id\":\"1924\"}},\"id\":\"1820\",\"type\":\"ColumnDataSource\"},{\"attributes\":{\"line_alpha\":0.6,\"line_color\":\"#1f77b4\",\"line_width\":3,\"x\":{\"field\":\"x\"},\"y\":{\"field\":\"y\"}},\"id\":\"1853\",\"type\":\"Line\"},{\"attributes\":{\"overlay\":{\"id\":\"1844\"}},\"id\":\"1840\",\"type\":\"BoxZoomTool\"},{\"attributes\":{\"text\":\"\"},\"id\":\"1918\",\"type\":\"Title\"},{\"attributes\":{},\"id\":\"1841\",\"type\":\"SaveTool\"},{\"attributes\":{},\"id\":\"1842\",\"type\":\"ResetTool\"},{\"attributes\":{},\"id\":\"1843\",\"type\":\"HelpTool\"},{\"attributes\":{},\"id\":\"1921\",\"type\":\"BasicTickFormatter\"},{\"attributes\":{},\"id\":\"1919\",\"type\":\"BasicTickFormatter\"},{\"attributes\":{\"args\":{\"slider\":{\"id\":\"1857\"},\"source\":{\"id\":\"1820\"}},\"code\":\"\\n    var data = source.data;\\n    var f = slider.value;\\n    var x = data['x']\\n    var y = data['y']\\n    for (var i = 0; i < x.length; i++) {\\n        y[i] = Math.pow(x[i], f)\\n    }\\n    \\n    // necessary becasue we mutated source.data in-place\\n    source.change.emit();\\n\"},\"id\":\"1858\",\"type\":\"CustomJS\"},{\"attributes\":{\"axis\":{\"id\":\"1830\"},\"ticker\":null},\"id\":\"1833\",\"type\":\"Grid\"},{\"attributes\":{\"formatter\":{\"id\":\"1921\"},\"ticker\":{\"id\":\"1831\"}},\"id\":\"1830\",\"type\":\"LinearAxis\"}],\"root_ids\":[\"1859\"]},\"title\":\"Bokeh Application\",\"version\":\"2.0.2\"}};\n",
       "  var render_items = [{\"docid\":\"ce353b6a-7dc8-4492-a00d-482ca7592cb5\",\"root_ids\":[\"1859\"],\"roots\":{\"1859\":\"d52c48b0-4730-4b33-abb4-f9f45507407b\"}}];\n",
       "  root.Bokeh.embed.embed_items_notebook(docs_json, render_items);\n",
       "\n",
       "  }\n",
       "  if (root.Bokeh !== undefined) {\n",
       "    embed_document(root);\n",
       "  } else {\n",
       "    var attempts = 0;\n",
       "    var timer = setInterval(function(root) {\n",
       "      if (root.Bokeh !== undefined) {\n",
       "        clearInterval(timer);\n",
       "        embed_document(root);\n",
       "      } else {\n",
       "        attempts++;\n",
       "        if (attempts > 100) {\n",
       "          clearInterval(timer);\n",
       "          console.log(\"Bokeh: ERROR: Unable to run BokehJS code because BokehJS library is missing\");\n",
       "        }\n",
       "      }\n",
       "    }, 10, root)\n",
       "  }\n",
       "})(window);"
      ],
      "application/vnd.bokehjs_exec.v0+json": ""
     },
     "metadata": {
      "application/vnd.bokehjs_exec.v0+json": {
       "id": "1859"
      }
     },
     "output_type": "display_data"
    }
   ],
   "source": [
    "from bokeh.layouts import column\n",
    "from bokeh.models import CustomJS, ColumnDataSource, Slider\n",
    "\n",
    "x = [x*0.005 for x in range(0, 201)]\n",
    "\n",
    "source = ColumnDataSource(data=dict(x=x, y=x))\n",
    "\n",
    "plot = figure(plot_width=400, plot_height=400)\n",
    "plot.line('x', 'y', source=source, line_width=3, line_alpha=0.6)\n",
    "\n",
    "slider = Slider(start=0.1, end=6, value=1, step=.1, title=\"power\")\n",
    "\n",
    "update_curve = CustomJS(args=dict(source=source, slider=slider), code=\"\"\"\n",
    "    var data = source.data;\n",
    "    var f = slider.value;\n",
    "    var x = data['x']\n",
    "    var y = data['y']\n",
    "    for (var i = 0; i < x.length; i++) {\n",
    "        y[i] = Math.pow(x[i], f)\n",
    "    }\n",
    "    \n",
    "    // necessary becasue we mutated source.data in-place\n",
    "    source.change.emit();\n",
    "\"\"\")\n",
    "slider.js_on_change('value', update_curve)\n",
    "\n",
    "\n",
    "show(column(slider, plot))"
   ]
  },
  {
   "cell_type": "code",
   "execution_count": 11,
   "metadata": {},
   "outputs": [],
   "source": [
    "# Exercise: Create a plot that updates based on a Select widget\n",
    "\n"
   ]
  },
  {
   "cell_type": "markdown",
   "metadata": {},
   "source": [
    "### Data selection example\n",
    "\n",
    "It's also possible to make JavaScript actions that execute whenever a user selection (e.g., box, point, lasso) changes. This is done by attaching the same kind of CustomJS object to whatever data source the selection is made on.\n",
    "\n",
    "The example below is a bit more sophisticated, and demonstrates updating one glyph's data source in response to another glyph's selection: "
   ]
  },
  {
   "cell_type": "code",
   "execution_count": 12,
   "metadata": {},
   "outputs": [
    {
     "data": {
      "text/html": [
       "\n",
       "\n",
       "\n",
       "\n",
       "\n",
       "\n",
       "  <div class=\"bk-root\" id=\"07f08269-d44b-4df1-9fc3-3f2e9a2e7ea5\" data-root-id=\"1981\"></div>\n"
      ]
     },
     "metadata": {},
     "output_type": "display_data"
    },
    {
     "data": {
      "application/javascript": [
       "(function(root) {\n",
       "  function embed_document(root) {\n",
       "    \n",
       "  var docs_json = {\"9f404138-be6f-45e3-8bf9-d7c8736b37fb\":{\"roots\":{\"references\":[{\"attributes\":{\"below\":[{\"id\":\"1992\"}],\"center\":[{\"id\":\"1995\"},{\"id\":\"1999\"}],\"left\":[{\"id\":\"1996\"}],\"plot_height\":400,\"plot_width\":400,\"renderers\":[{\"id\":\"2008\"},{\"id\":\"2014\"}],\"title\":{\"id\":\"1982\"},\"toolbar\":{\"id\":\"2002\"},\"x_range\":{\"id\":\"1984\"},\"x_scale\":{\"id\":\"1988\"},\"y_range\":{\"id\":\"1986\"},\"y_scale\":{\"id\":\"1990\"}},\"id\":\"1981\",\"subtype\":\"Figure\",\"type\":\"Plot\"},{\"attributes\":{\"source\":{\"id\":\"1980\"}},\"id\":\"2009\",\"type\":\"CDSView\"},{\"attributes\":{\"line_alpha\":0.6,\"line_color\":\"orange\",\"line_width\":5,\"x\":{\"field\":\"xm\"},\"y\":{\"field\":\"ym\"}},\"id\":\"2012\",\"type\":\"Line\"},{\"attributes\":{},\"id\":\"2093\",\"type\":\"UnionRenderers\"},{\"attributes\":{\"data\":{\"color\":[\"navy\",\"navy\",\"navy\",\"navy\",\"navy\",\"navy\",\"navy\",\"navy\",\"navy\",\"navy\",\"navy\",\"navy\",\"navy\",\"navy\",\"navy\",\"navy\",\"navy\",\"navy\",\"navy\",\"navy\",\"navy\",\"navy\",\"navy\",\"navy\",\"navy\",\"navy\",\"navy\",\"navy\",\"navy\",\"navy\",\"navy\",\"navy\",\"navy\",\"navy\",\"navy\",\"navy\",\"navy\",\"navy\",\"navy\",\"navy\",\"navy\",\"navy\",\"navy\",\"navy\",\"navy\",\"navy\",\"navy\",\"navy\",\"navy\",\"navy\",\"navy\",\"navy\",\"navy\",\"navy\",\"navy\",\"navy\",\"navy\",\"navy\",\"navy\",\"navy\",\"navy\",\"navy\",\"navy\",\"navy\",\"navy\",\"navy\",\"navy\",\"navy\",\"navy\",\"navy\",\"navy\",\"navy\",\"navy\",\"navy\",\"navy\",\"navy\",\"navy\",\"navy\",\"navy\",\"navy\",\"navy\",\"navy\",\"navy\",\"navy\",\"navy\",\"navy\",\"navy\",\"navy\",\"navy\",\"navy\",\"navy\",\"navy\",\"navy\",\"navy\",\"navy\",\"navy\",\"navy\",\"navy\",\"navy\",\"navy\",\"navy\",\"navy\",\"navy\",\"navy\",\"navy\",\"navy\",\"navy\",\"navy\",\"navy\",\"navy\",\"navy\",\"navy\",\"navy\",\"navy\",\"navy\",\"navy\",\"navy\",\"navy\",\"navy\",\"navy\",\"navy\",\"navy\",\"navy\",\"navy\",\"navy\",\"navy\",\"navy\",\"navy\",\"navy\",\"navy\",\"navy\",\"navy\",\"navy\",\"navy\",\"navy\",\"navy\",\"navy\",\"navy\",\"navy\",\"navy\",\"navy\",\"navy\",\"navy\",\"navy\",\"navy\",\"navy\",\"navy\",\"navy\",\"navy\",\"navy\",\"navy\",\"navy\",\"navy\",\"navy\",\"navy\",\"navy\",\"navy\",\"navy\",\"navy\",\"navy\",\"navy\",\"navy\",\"navy\",\"navy\",\"navy\",\"navy\",\"navy\",\"navy\",\"navy\",\"navy\",\"navy\",\"navy\",\"navy\",\"navy\",\"navy\",\"navy\",\"navy\",\"navy\",\"navy\",\"navy\",\"navy\",\"navy\",\"navy\",\"navy\",\"navy\",\"navy\",\"navy\",\"navy\",\"navy\",\"navy\",\"navy\",\"navy\",\"navy\",\"navy\",\"navy\",\"navy\",\"navy\",\"navy\",\"navy\",\"navy\",\"navy\",\"navy\",\"navy\",\"navy\",\"navy\",\"navy\",\"navy\",\"navy\",\"navy\",\"navy\",\"navy\",\"navy\",\"navy\",\"navy\",\"navy\",\"navy\",\"navy\",\"navy\",\"navy\",\"navy\",\"navy\",\"navy\",\"navy\",\"navy\",\"navy\",\"navy\",\"navy\",\"navy\",\"navy\",\"navy\",\"navy\",\"navy\",\"navy\",\"navy\",\"navy\",\"navy\",\"navy\",\"navy\",\"navy\",\"navy\",\"navy\",\"navy\",\"navy\",\"navy\",\"navy\",\"navy\",\"navy\",\"navy\",\"navy\",\"navy\",\"navy\",\"navy\",\"navy\",\"navy\",\"navy\",\"navy\",\"navy\",\"navy\",\"navy\",\"navy\",\"navy\",\"navy\",\"navy\",\"navy\",\"navy\",\"navy\",\"navy\",\"navy\",\"navy\",\"navy\",\"navy\",\"navy\",\"navy\",\"navy\",\"navy\",\"navy\",\"navy\",\"navy\",\"navy\",\"navy\",\"navy\",\"navy\",\"navy\",\"navy\",\"navy\",\"navy\",\"navy\",\"navy\",\"navy\",\"navy\",\"navy\",\"navy\",\"navy\",\"navy\",\"navy\",\"navy\",\"navy\",\"navy\",\"navy\",\"navy\",\"navy\",\"navy\",\"navy\",\"navy\",\"navy\",\"navy\",\"navy\",\"navy\",\"navy\",\"navy\",\"navy\",\"navy\",\"navy\",\"navy\",\"navy\",\"navy\",\"navy\",\"navy\",\"navy\",\"navy\",\"navy\",\"navy\",\"navy\",\"navy\",\"navy\",\"navy\",\"navy\",\"navy\",\"navy\",\"navy\",\"navy\",\"navy\",\"navy\",\"navy\",\"navy\",\"navy\",\"navy\",\"navy\",\"navy\",\"navy\",\"navy\",\"navy\",\"navy\",\"navy\",\"navy\",\"navy\",\"navy\",\"navy\",\"navy\",\"navy\",\"navy\",\"navy\",\"navy\",\"navy\",\"navy\",\"navy\",\"navy\",\"navy\",\"navy\",\"navy\",\"navy\",\"navy\",\"navy\",\"navy\",\"navy\",\"navy\",\"navy\",\"navy\",\"navy\",\"navy\",\"navy\",\"navy\",\"navy\",\"navy\",\"navy\",\"navy\",\"navy\",\"navy\",\"navy\",\"navy\",\"navy\",\"navy\",\"navy\",\"navy\",\"navy\",\"navy\",\"navy\",\"navy\",\"navy\",\"navy\",\"navy\",\"navy\",\"navy\",\"navy\",\"navy\",\"navy\",\"navy\",\"navy\",\"navy\",\"navy\",\"navy\",\"navy\",\"navy\",\"navy\",\"navy\",\"navy\",\"navy\",\"navy\",\"navy\",\"navy\",\"navy\",\"navy\",\"navy\",\"navy\",\"navy\",\"navy\",\"navy\",\"navy\",\"navy\",\"navy\",\"navy\",\"navy\",\"navy\",\"navy\",\"navy\",\"navy\",\"navy\",\"navy\",\"navy\",\"navy\",\"navy\",\"navy\",\"navy\",\"navy\",\"navy\",\"navy\",\"navy\",\"navy\",\"navy\",\"navy\",\"navy\",\"navy\",\"navy\",\"navy\",\"navy\",\"navy\",\"navy\",\"navy\",\"navy\",\"navy\",\"navy\",\"navy\",\"navy\",\"navy\",\"navy\",\"navy\",\"navy\",\"navy\",\"navy\",\"navy\",\"navy\",\"navy\",\"navy\",\"navy\",\"navy\",\"navy\",\"navy\",\"navy\",\"navy\",\"navy\",\"navy\",\"navy\",\"navy\",\"navy\",\"navy\",\"navy\",\"navy\",\"navy\",\"navy\",\"navy\",\"navy\",\"navy\",\"navy\",\"navy\",\"navy\",\"navy\",\"navy\",\"navy\",\"navy\",\"navy\",\"navy\",\"navy\",\"navy\",\"navy\",\"navy\",\"navy\",\"navy\",\"navy\",\"navy\",\"navy\"],\"x\":[0.34809517663690726,0.9999398246925182,0.2874941627684767,0.659899651800505,0.4354240710445858,0.7874228284276873,0.5524332310279015,0.674794009805392,0.09548062361495091,0.9328814935711331,0.24663632527900137,0.24444405466439667,0.1929724248883542,0.16220814337733458,0.9670530262748189,0.35328067788184137,0.8652490209603062,0.4215993215629571,0.9130035880468822,0.7761009029274522,0.17034210506958325,0.10112135845692394,0.8619630316460105,0.1697216224359943,0.535212512924619,0.11592947316613256,0.8105724752300806,0.42930019149188003,0.782663330340778,0.6857151070309999,0.4673401228446381,0.10136494363282622,0.15920292073292808,0.19869041818586264,0.4172895451770775,0.4376987814863439,0.032648699798036085,0.3943150133204336,0.9795560790368063,0.04452236455540215,0.7904638535723966,0.37926924148154484,0.6765752210201059,0.8195982625605038,0.7072692241959998,0.9429015349139588,0.40589174851967513,0.756251208891012,0.7621947419739932,0.15002221354881062,0.2651360144111893,0.5440203469509448,0.4932981839785735,0.10647153989993696,0.4922809621462131,0.45045611478088743,0.4497854702250714,0.5805166928097157,0.42754639482043444,0.3268054933538852,0.4708282156302511,0.35620648203662153,0.4216509696754547,0.864967500192807,0.7136479126308337,0.8595753265398434,0.6331797410395873,0.041789039002556816,0.22856554790325145,0.4855557403040054,0.7355250797259548,0.5036751995036179,0.3778819399137806,0.20562451204190457,0.6897932941133412,0.07431793492544525,0.06663410528355718,0.261253490841724,0.8175907590479916,0.00945193776114961,0.1912296832511381,0.8940683804449366,0.23089395474352836,0.2739482377379622,0.8507327056112304,0.09944166813541633,0.43858587045888986,0.5143547906231356,0.913416360806894,0.6041790002475295,0.16394304680440364,0.3086888896865607,0.4072076618290257,0.31354762082397303,0.44889979609385233,0.16019951631022067,0.3398829061688682,0.6262268532257572,0.9004056009981434,0.10373297498536505,0.9814723465202522,0.7324549352919607,0.6437906949524033,0.6336651246016235,0.4891359253226748,0.8504953232921763,0.5935822631777096,0.5613645768474825,0.11398157730501346,0.2925866873607902,0.7997510685518067,0.3660311782170462,0.4446949567090446,0.9617358593808574,0.31691275066425506,0.04327537280806015,0.14855820554102528,0.6145812335106946,0.551802791194905,0.6295180919473724,0.020746904743105032,0.668731646819899,0.1626241115272341,0.8506368436915508,0.5991972911412706,0.1821523097059099,0.5362393830131618,0.04521288345142016,0.7051148363882803,0.008044215908943664,0.1989356574785891,0.6876385181355986,0.2058074664523083,0.5967734953158905,0.9882132992629232,0.6135204523896494,0.32818359168668154,0.5100249389946406,0.8097563133939916,0.24435579235443716,0.6906080671059046,0.9934666502935502,0.5456045504370577,0.237969211333118,0.24455047237398275,0.553038712457959,0.705531036485444,0.7663615154578215,0.258184076068913,0.2570009509281467,0.12250642725931515,0.022967017928537947,0.08764144079424385,0.47032109011008194,0.09723512519990818,0.7323683012253205,0.684882605535635,0.1712995753430091,0.17282103727847242,0.8802570439406001,0.35328570764008005,0.13579712693307333,0.1068660260441201,0.4129642038773489,0.5482301669194526,0.033143108411127664,0.31206139174774217,0.4557485750710871,0.5567546070391401,0.9532677515173299,0.6925169843444569,0.5415526649905305,0.034795917996301995,0.8920915020459957,0.9906409755287615,0.505963042746687,0.78910717507634,0.9189637738951073,0.4647422424837101,0.2497047044168932,0.9270002384587922,0.5212834873253722,0.7324687644440568,0.8181437508357247,0.023583699941091107,0.534855736321952,0.16982233486335285,0.013197917899058331,0.44551225176794385,0.2831786445191943,0.14028893759105854,0.417100006336409,0.22173758598356985,0.7268749785271504,0.4897948781561152,0.7829551176989797,0.4783692176192289,0.9178305807672337,0.1939608285412069,0.5836463130376842,0.4064302923604921,0.1494206131816751,0.46609691340546844,0.4776315185370408,0.6873287570466228,0.36201835884984723,0.21981143481654264,0.704576731682035,0.45307443350568144,0.9607104067370547,0.24762256377714686,0.0011940515010214758,0.6411294172755451,0.8336311010770565,0.35999514403104027,0.008844747071646064,0.6863596159341623,0.4419182619423281,0.6958804284381086,0.7598604723359189,0.772166232119422,0.7403351200387787,0.9008481721893766,0.2126410130943115,0.28498041283753794,0.47096722908540045,0.46920933389839303,0.753409930519801,0.22882242098280026,0.29817904022498165,0.5894539283906359,0.7202824167046281,0.7838390237712722,0.4250526490272226,0.0725333301347072,0.974027255395875,0.32216914483698944,0.9409562326350596,0.30797556690640737,0.21841068876585357,0.0006649169465593463,0.1823198232558796,0.5437116199930652,0.22626630298304162,0.7116730581414931,0.02724634335681242,0.7609126445034483,0.2734993373879244,0.7985834446829253,0.6126638823433739,0.30064387358787825,0.2239933804727886,0.9597166792918375,0.44920115717428133,0.26373004598519423,0.42761819677366897,0.13576201170930557,0.06801338874198537,0.3867240280759193,0.7339191330466281,0.3413465482614003,0.49061567761104474,0.15514388679936741,0.9121273676379222,0.790249278617037,0.34101230635815205,0.35169401360059693,0.26984439613918454,0.9252153788024337,0.5734755570961309,0.7111238860020603,0.8362763893595588,0.16799319404817414,0.7572451566869961,0.07345168843607786,0.2737881446905035,0.46433000335205854,0.7077189400604648,0.45770377968422393,0.5365579452286916,0.8059168054270855,0.5270233658220295,0.02690218079943263,0.31981295917667263,0.9783257856952855,0.5045414852772677,0.3064220286905833,0.5976289392460405,0.9538237753714208,0.5977128553582631,0.4185021890610473,0.3562771760160798,0.8819060644389108,0.2459790754365081,0.49133821893637764,0.2845174369972371,0.8220528255403187,0.3615323149142412,0.5571326851387303,0.47937848096812796,0.6246108953185581,0.4189039872440199,0.643308136770643,0.8448063742513505,0.29894466918198725,0.8454241361557473,0.8813421937640075,0.5788821101976441,0.3818527349623143,0.9715012945532812,0.9983845623032968,0.6986698899698504,0.5029179120873148,0.6879550478968312,0.1227279158557778,0.6002363189140972,0.08395713746319533,0.2872960494975203,0.8193125934500363,0.8285338513717823,0.7730784644012456,0.053385443520135856,0.8036091520729735,0.20812773750259717,0.3549711472388837,0.672827885991721,0.07482542633426126,0.30390046704960505,0.39191819347904633,0.8653910780199293,0.3009748747763865,0.30001803639309277,0.15130385613322028,0.8236242589884706,0.3502809856261362,0.08286514622303587,0.399373199118073,0.04377611626129807,0.9403055028413277,0.8780957308615757,0.8558968777481768,0.101009396829986,0.41558161498002344,0.05096146967183446,0.8295518325533008,0.6532150974538758,0.2956012503534653,0.2709803135393595,0.528266778786078,0.960058239573426,0.16914450728187025,0.9128070392201372,0.49250537081369716,0.005290360170323138,0.6012679821089265,0.9008064260699219,0.2951645768720883,0.0828808891361168,0.3429654402908454,0.3496920893674106,0.6449098643787343,0.9906417073584693,0.5846187535215671,0.17658231206828634,0.5803922920088842,0.05492773133532547,0.8274010639384161,0.31804609437697606,0.5042073110650069,0.32355412352740165,0.557353146998412,0.32532490958664495,0.8079019524701263,0.8217931394735332,0.6394892711602131,0.25148795417665737,0.5879904944426709,0.19788694261573725,0.5919179433891946,0.5682889423854257,0.4500549889862492,0.06233537567315495,0.4683347674631765,0.17119356404288766,0.9198002488429232,0.5339769351006581,0.8400296183772901,0.9387795223602561,0.21858531336273002,0.20664282230900932,0.472921888874567,0.5577396689605654,0.8684430530875747,0.1745985440540172,0.11172731287546078,0.1801755729151343,0.2278296727227992,0.10099151250821059,0.632496607946292,0.1353740778393826,0.4700839173946423,0.2442459709391852,0.9250392183880668,0.5166213598918433,0.8355432122396484,0.016381286212106883,0.9255531445439321,0.6652389377172203,0.35361857143758846,0.20444670557897404,0.5432044744337288,0.051763377471330974,0.8240837199622695,0.47149536874895015,0.12860263257023075,0.9904257687056981,0.34432139819220053,0.08592762141518473,0.480582145736576,0.5915626256205151,0.7338088726628268,0.8278713691570786,0.15450693137096772,0.17666138667421294,0.7304307883140041,0.8772309486320073,0.06837842689573637,0.36370676000605373,0.6530933125350339,0.5280613633028896,0.298953479232255,0.1683525242478432,0.6186809773375176,0.7955864884780669,0.18654003069978442,0.18506417786408358,0.7969111594926154,0.6155930279174415,0.07336242684916894,0.5879411155558542,0.7848385692886222,0.6060586939380849,0.7963496909865847,0.29647463994272016,0.17661294966323227,0.465622427955263,0.9174041548300056,0.8436913722723611,0.08135469261070427,0.47215676492512626,0.7414639023175937,0.9428811421776143,0.5114113201662395,0.0507087999376582,0.31652624464133805,0.37450376959017184,0.8612220401503271,0.5046578832800529,0.1226460100390927,0.3523733125411532,0.8291565615760865,0.9179888050620516,0.08628509627541348,0.14091415805134733,0.03590817152167536,0.9927957276531606,0.8128303820706052,0.8696862112394264,0.6853840506227316,0.9554708570873617,0.8982557739892538,0.5121255295899816,0.5778023304249161,0.4066339699978463,0.03405293496179573,0.29214136096834564,0.6418735150968096,0.5587046954610672,0.6900631170492387,0.8090239763111331,0.8427759387370053,0.8303732443191153,0.9438093789250106,0.14258644669420284,0.8963086317608328,0.06006743879719112,0.003367369420748445,0.5054024368834523,0.23170202814827645,0.11358179691122228,0.2518501985816779,0.7822828615045241,0.6406049729938559,0.3040096622758546,0.17926205391087202,0.4412541676367112,0.8507764555683182,0.3486317160570548,0.41930395689361777,0.5731466314381567],\"y\":[0.9360337421791916,0.14967441144497917,0.21188704378598777,0.3195093830397643,0.19706852163857824,0.9956014204262242,0.19964933754589365,0.923136269912267,0.9148313269500699,0.49751497911218734,0.008082475653620191,0.142264141779318,0.6363588594327901,0.8256018911183448,0.6480948990172585,0.7259822965541005,0.45654779852502525,0.8092118232704861,0.6118489751274528,0.07608901063884732,0.8980561934269992,0.8898765145515196,0.3641320063938267,0.40635081856437816,0.929287304339376,0.08610306210335206,0.3073202032322885,0.19968183447663113,0.01977077351937928,0.2481466186909429,0.27035789963986334,0.8667722698089424,0.1226362504857782,0.10786560464582884,0.9103356629520738,0.2550218138068988,0.34427575489266393,0.9780604147813846,0.06305288799706599,0.3563960343283624,0.8420440213725181,0.9437638231334937,0.18171751559459692,0.193598514430963,0.8324053769796751,0.013501605680826811,0.7795930895897278,0.7400635283980209,0.3452284517865415,0.9823428427682174,0.7095300325235632,0.029259165704203727,0.8777096650381979,0.5745091086040306,0.33829549657322167,0.42369369630900633,0.15645728011359805,0.9507686927493764,0.879137135621128,0.5602123275729822,0.31053138655904766,0.9899676421796312,0.6642297589818105,0.2778306605603065,0.7636365501019776,0.6634078449296419,0.07607799964866713,0.8262432182134929,0.029021086539188445,0.5648508665304008,0.560274337260893,0.8957833563126767,0.7605801806215127,0.06905152250818514,0.9314706481058421,0.35881087962695557,0.01927228646453205,0.1721252536847414,0.8351791930591068,0.3886407972192619,0.4927466187058608,0.781241382466725,0.9880891248714548,0.9385211872059827,0.18212600186069483,0.9200668890891642,0.18580705492649563,0.3810907017468951,0.18736451687815436,0.35844826755302983,0.6158535435596829,0.9110171722733194,0.8229173217985202,0.6545176321950233,0.8461996620955792,0.6081133343904022,0.10327613921813839,0.3868606240117938,0.5247503270697716,0.4389616490474675,0.03283701438882025,0.16076957787012702,0.48907680310454305,0.8137352246573989,0.9902955826864682,0.7166848302004613,0.752202324683293,0.04135927044600618,0.14805157348071396,0.8422306517580087,0.22831738738518448,0.33528802082522224,0.7084206249852415,0.27636304267868717,0.12878119748324013,0.31433315336780154,0.601052498664647,0.9304139336539853,0.2508133489387777,0.6276326020314519,0.25669214550205366,0.47015452024951676,0.11705044913656737,0.09888420971023537,0.14207979340430088,0.6379099218785744,0.2649034739094889,0.09384272618792411,0.276741898404382,0.04055628409529788,0.229518221451937,0.40699194826496254,0.1354720624101532,0.02563935529556005,0.5369872829325376,0.41600810631191454,0.25699665640999936,0.9416014857816815,0.42291862389824453,0.5314371426645191,0.31221916186079157,0.9056752730520276,0.6926606473523911,0.030846820147391374,0.8637805638178037,0.5038091780534925,0.04334835500436973,0.9197176828075596,0.3990589554404065,0.6919306503372544,0.8090852370469123,0.8175109610745913,0.8868660492580523,0.958002403751734,0.7363068052900106,0.7260739202860792,0.4919377662106893,0.9236888461829278,0.756234536636996,0.901791888740345,0.5719857204971172,0.6403463835471482,0.7812506119121105,0.4957027122145732,0.064796476415658,0.1152977863783865,0.9498901585124664,0.6596146016789616,0.1958947615783846,0.11938239823108299,0.892564138406513,0.4592262765262368,0.6663253222067815,0.3509240967992924,0.21658647737941306,0.2031533444908048,0.19441553168989978,0.36728255718675906,0.16067940160308292,0.6898244470411599,0.9729661005850629,0.14353120282565313,0.22253474115301564,0.3521537369716008,0.407828404605065,0.3626202869812739,0.07479962758293235,0.6607309761099616,0.8967488455806553,0.6418226676005546,0.6813501240656274,0.8496240183938788,0.48026540331092216,0.9236395102052251,0.15794771986591716,0.6110297917380302,0.24246883957599596,0.5613987685481595,0.9815496616766209,0.8199294169331329,0.9053226083214685,0.031724302623787004,0.370705071224525,0.2085018891979138,0.32917946137426735,0.1394461773516783,0.9416000399285038,0.963588960843439,0.1394995430445949,0.15494970764235327,0.6505817232850009,0.9101489439265178,0.7138005787732792,0.6596420690156011,0.43735732324737775,0.2713655696535944,0.7937186566389974,0.8523323447927562,0.06958005372618092,0.1989964146791341,0.7527611923621381,0.6169600743434138,0.9052120042082762,0.6679194289702449,0.11575223496254716,0.5484525435225504,0.08887831477033659,0.591700286544486,0.8535384964441239,0.5504054526435174,0.10237062560646126,0.840798942514736,0.552716958892433,0.26491861215505685,0.13548841113268517,0.4267601879846947,0.009047295578735626,0.7035180264394615,0.28352978371851834,0.05430539260291456,0.07995011914596306,0.884886367721976,0.4933554485675842,0.29824773256963655,0.5594352341275299,0.8079582838584497,0.9882952970051864,0.6298890746579002,0.2736925083478853,0.47937227062844645,0.5561701335726955,0.8641854235611333,0.030793065806358322,0.1796508688187749,0.8637653234810556,0.5306385101311436,0.8885947597323675,0.5284194235404581,0.4308056120905953,0.003828832300067364,0.4890820110025592,0.22123162666397211,0.9937929699025498,0.4392028854431447,0.3200329951634565,0.06407984303601144,0.13128235576842595,0.9895340415976797,0.35945316854687404,0.5119560436345656,0.0009909698578773884,0.44085557958012045,0.8768739800790858,0.3111865740820734,0.5078905177001894,0.9465552627824557,0.3285536811347578,0.28042830420185805,0.12054585320664712,0.9227792370200071,0.965943311773581,0.6491209654293298,0.6365917665522726,0.8571449382357361,0.010575320154102896,0.4329476807947612,0.7279931510733896,0.2717062895032659,0.01988590153595038,0.32316322423291344,0.5664429943585744,0.842192341276292,0.07808878854858536,0.8012277605488053,0.2130932200368475,0.30838643330627913,0.5510767829265786,0.3818994660652697,0.5823998567357447,0.9402314594981811,0.17842518312713285,0.4703666260010573,0.5155990419794394,0.6013085548718776,0.8685019687536477,0.9592685611092941,0.3397150036278639,0.357071485387936,0.23550853251653447,0.4273005862401228,0.5005734176034148,0.5620498178058824,0.7781004430319495,0.021853887755545753,0.8477412400174026,0.2607342776309107,0.0516668104340825,0.9983689776091522,0.15814868690432882,0.4064341252689442,0.7766970537527522,0.9265459433792502,0.42878136688820667,0.4879530528299163,0.9848784346554947,0.7445339853785434,0.2666177524075901,0.10676832361976263,0.9781278417216002,0.843729554213781,0.5114402536697364,0.7686266319971996,0.38106670726254566,0.041987609179384267,0.7907789778072438,0.5554124932920096,0.10269767008351005,0.0880500459796264,0.023347088779261616,0.7120095725638571,0.6876329209329536,0.3530007619675849,0.0542788267926938,0.9983273864519099,0.414989563962857,0.22211006719804538,0.19814099367011262,0.6666587479341526,0.8482196612937046,0.4786388872958798,0.4730261846070908,0.35385666835568663,0.4536620212307857,0.7462925683750441,0.4856428953101962,0.7262848100515938,0.8960931806114081,0.3822304721964317,0.706509219639111,0.05592947689337391,0.32916472517922624,0.04186683901228272,0.39877197538101383,0.3674619227935979,0.9480119547536694,0.7431983012600972,0.11463638741876625,0.4198317827701691,0.0888406333553513,0.2026347357183279,0.5019985286505413,0.7044048123837742,0.8998150123447709,0.7840498735239468,0.5664060293690377,0.9597570243018405,0.2639627708396334,0.3081241593114149,0.2193795442544647,0.5361476916288694,0.6562688432301054,0.005697613585998074,0.47998217401801657,0.30684101113764906,0.5602866769923693,0.4100806611241711,0.30493868787302847,0.11322978998731326,0.3833416623525425,0.473633974151324,0.915562155010343,0.04144506781631385,0.5243614156060947,0.7014473098926108,0.12494979277127027,0.3959251919706407,0.6138321168352693,0.050943035190742836,0.14849363245892888,0.015495262056809844,0.1552533895245487,0.5419823980994786,0.2706739641094241,0.7551150516073237,0.7131397340729052,0.8347353720514709,0.7107519645828639,0.6217340840023987,0.6297907754496839,0.49648253866956515,0.24773221516123833,0.07422293570137228,0.077241658454967,0.17500541117302826,0.5658205347075623,0.38396944663847954,0.41127128779152256,0.3419808802034301,0.8343488793055356,0.06513025740789213,0.22252443001116973,0.6573745840603575,0.3389425662601112,0.8542486080682554,0.3426694077537512,0.48080891996516384,0.10535570669712713,0.04387481840872276,0.9639518039705639,0.14804822170981635,0.08954276093105185,0.7122983650522706,0.12890903818600297,0.8338889450262232,0.9392594869096148,0.7959602385516247,0.2771702295444193,0.9715316614521798,0.8917011525173232,0.22331691838257384,0.1766038522917467,0.6595462993409098,0.09542527152148839,0.3238992939889872,0.13839210178109673,0.9788408882709794,0.42375715242506407,0.8605832627424531,0.17297955911492202,0.7684296734285427,0.0739552416257373,0.4329392164218382,0.9346565341683841,0.7658498295477139,0.3417849405776999,0.008810750442022286,0.4191009141233081,0.1250517441304222,0.2073866832418756,0.45745430481932714,0.292088904572382,0.5557709876797202,0.6239949267345163,0.8032282684653661,0.7407861323514953,0.8294854138339209,0.697150306315043,0.2089298668361652,0.6507398632220892,0.257220974381549,0.7788460312124352,0.6624393817503943,0.23008222389366906,0.4394816984309855,0.675476338230597,0.7724710616814023,0.5133968389986738,0.8215949560201331,0.3013450680636385,0.7333766934329949,0.48828050519598176,0.8035335220341633,0.2787904253032615,0.9527973487148144,0.9073950790178281,0.5416875286840487,0.37303081848590525,0.2594276409019879,0.8024084902544797,0.5376300779267502,0.05370754151265389,0.7033256434220563,0.15248150649049164,0.2659311906581473,0.4284857001169651,0.10214228669858827,0.27561861644606067,0.021760060037002482,0.2532311509213513,0.23246534050306078]},\"selected\":{\"id\":\"2017\"},\"selection_policy\":{\"id\":\"2091\"}},\"id\":\"1980\",\"type\":\"ColumnDataSource\"},{\"attributes\":{\"fill_alpha\":0.5,\"fill_color\":\"lightgrey\",\"level\":\"overlay\",\"line_alpha\":1.0,\"line_color\":\"black\",\"line_dash\":[4,4],\"line_width\":2,\"xs_units\":\"screen\",\"ys_units\":\"screen\"},\"id\":\"2001\",\"type\":\"PolyAnnotation\"},{\"attributes\":{\"args\":{\"s1\":{\"id\":\"1980\"},\"s2\":{\"id\":\"2010\"}},\"code\":\"\\n    var inds = s1.selected.indices;\\n    if (inds.length == 0)\\n        return;\\n\\n    var ym = 0\\n    for (var i = 0; i < inds.length; i++) {\\n        ym += s1.data.y[inds[i]]\\n    }\\n    \\n    ym /= inds.length\\n    s2.data.ym = [ym, ym]\\n\\n    // necessary becasue we mutated source.data in-place\\n    s2.change.emit();  \\n\"},\"id\":\"2016\",\"type\":\"CustomJS\"},{\"attributes\":{\"axis\":{\"id\":\"1992\"},\"ticker\":null},\"id\":\"1995\",\"type\":\"Grid\"},{\"attributes\":{},\"id\":\"1993\",\"type\":\"BasicTicker\"},{\"attributes\":{},\"id\":\"1984\",\"type\":\"DataRange1d\"},{\"attributes\":{\"formatter\":{\"id\":\"2085\"},\"ticker\":{\"id\":\"1997\"}},\"id\":\"1996\",\"type\":\"LinearAxis\"},{\"attributes\":{\"formatter\":{\"id\":\"2087\"},\"ticker\":{\"id\":\"1993\"}},\"id\":\"1992\",\"type\":\"LinearAxis\"},{\"attributes\":{\"axis\":{\"id\":\"1996\"},\"dimension\":1,\"ticker\":null},\"id\":\"1999\",\"type\":\"Grid\"},{\"attributes\":{\"fill_alpha\":{\"value\":0.4},\"fill_color\":{\"field\":\"color\"},\"line_alpha\":{\"value\":0.4},\"line_color\":{\"field\":\"color\"},\"size\":{\"units\":\"screen\",\"value\":8},\"x\":{\"field\":\"x\"},\"y\":{\"field\":\"y\"}},\"id\":\"2005\",\"type\":\"Circle\"},{\"attributes\":{\"active_drag\":\"auto\",\"active_inspect\":\"auto\",\"active_multi\":null,\"active_scroll\":\"auto\",\"active_tap\":\"auto\",\"tools\":[{\"id\":\"2000\"}]},\"id\":\"2002\",\"type\":\"Toolbar\"},{\"attributes\":{\"text\":\"Select Here\"},\"id\":\"1982\",\"type\":\"Title\"},{\"attributes\":{\"source\":{\"id\":\"2010\"}},\"id\":\"2015\",\"type\":\"CDSView\"},{\"attributes\":{\"data\":{\"xm\":[0,1],\"ym\":[0.5,0.5]},\"selected\":{\"id\":\"2092\"},\"selection_policy\":{\"id\":\"2093\"}},\"id\":\"2010\",\"type\":\"ColumnDataSource\"},{\"attributes\":{},\"id\":\"1997\",\"type\":\"BasicTicker\"},{\"attributes\":{\"js_property_callbacks\":{\"change:indices\":[{\"id\":\"2016\"}]}},\"id\":\"2017\",\"type\":\"Selection\"},{\"attributes\":{\"data_source\":{\"id\":\"2010\"},\"glyph\":{\"id\":\"2012\"},\"hover_glyph\":null,\"muted_glyph\":null,\"nonselection_glyph\":{\"id\":\"2013\"},\"selection_glyph\":null,\"view\":{\"id\":\"2015\"}},\"id\":\"2014\",\"type\":\"GlyphRenderer\"},{\"attributes\":{\"fill_alpha\":{\"value\":0.4},\"fill_color\":{\"value\":\"firebrick\"},\"line_alpha\":{\"value\":0.4},\"line_color\":{\"value\":\"firebrick\"},\"size\":{\"units\":\"screen\",\"value\":8},\"x\":{\"field\":\"x\"},\"y\":{\"field\":\"y\"}},\"id\":\"2007\",\"type\":\"Circle\"},{\"attributes\":{\"line_alpha\":0.1,\"line_color\":\"orange\",\"line_width\":5,\"x\":{\"field\":\"xm\"},\"y\":{\"field\":\"ym\"}},\"id\":\"2013\",\"type\":\"Line\"},{\"attributes\":{},\"id\":\"1988\",\"type\":\"LinearScale\"},{\"attributes\":{\"overlay\":{\"id\":\"2001\"}},\"id\":\"2000\",\"type\":\"LassoSelectTool\"},{\"attributes\":{},\"id\":\"1986\",\"type\":\"DataRange1d\"},{\"attributes\":{},\"id\":\"2085\",\"type\":\"BasicTickFormatter\"},{\"attributes\":{},\"id\":\"1990\",\"type\":\"LinearScale\"},{\"attributes\":{\"data_source\":{\"id\":\"1980\"},\"glyph\":{\"id\":\"2005\"},\"hover_glyph\":null,\"muted_glyph\":null,\"nonselection_glyph\":{\"id\":\"2006\"},\"selection_glyph\":{\"id\":\"2007\"},\"view\":{\"id\":\"2009\"}},\"id\":\"2008\",\"type\":\"GlyphRenderer\"},{\"attributes\":{},\"id\":\"2087\",\"type\":\"BasicTickFormatter\"},{\"attributes\":{},\"id\":\"2092\",\"type\":\"Selection\"},{\"attributes\":{},\"id\":\"2091\",\"type\":\"UnionRenderers\"},{\"attributes\":{\"fill_alpha\":{\"value\":0.1},\"fill_color\":{\"field\":\"color\"},\"line_alpha\":{\"value\":0.1},\"line_color\":{\"field\":\"color\"},\"size\":{\"units\":\"screen\",\"value\":8},\"x\":{\"field\":\"x\"},\"y\":{\"field\":\"y\"}},\"id\":\"2006\",\"type\":\"Circle\"}],\"root_ids\":[\"1981\"]},\"title\":\"Bokeh Application\",\"version\":\"2.0.2\"}};\n",
       "  var render_items = [{\"docid\":\"9f404138-be6f-45e3-8bf9-d7c8736b37fb\",\"root_ids\":[\"1981\"],\"roots\":{\"1981\":\"07f08269-d44b-4df1-9fc3-3f2e9a2e7ea5\"}}];\n",
       "  root.Bokeh.embed.embed_items_notebook(docs_json, render_items);\n",
       "\n",
       "  }\n",
       "  if (root.Bokeh !== undefined) {\n",
       "    embed_document(root);\n",
       "  } else {\n",
       "    var attempts = 0;\n",
       "    var timer = setInterval(function(root) {\n",
       "      if (root.Bokeh !== undefined) {\n",
       "        clearInterval(timer);\n",
       "        embed_document(root);\n",
       "      } else {\n",
       "        attempts++;\n",
       "        if (attempts > 100) {\n",
       "          clearInterval(timer);\n",
       "          console.log(\"Bokeh: ERROR: Unable to run BokehJS code because BokehJS library is missing\");\n",
       "        }\n",
       "      }\n",
       "    }, 10, root)\n",
       "  }\n",
       "})(window);"
      ],
      "application/vnd.bokehjs_exec.v0+json": ""
     },
     "metadata": {
      "application/vnd.bokehjs_exec.v0+json": {
       "id": "1981"
      }
     },
     "output_type": "display_data"
    }
   ],
   "source": [
    "from random import random\n",
    "\n",
    "x = [random() for x in range(500)]\n",
    "y = [random() for y in range(500)]\n",
    "color = [\"navy\"] * len(x)\n",
    "\n",
    "s1 = ColumnDataSource(data=dict(x=x, y=y, color=color))\n",
    "p = figure(plot_width=400, plot_height=400, tools=\"lasso_select\", title=\"Select Here\")\n",
    "p.circle('x', 'y', color='color', size=8, alpha=0.4, source=s1, \n",
    "         selection_color=\"firebrick\", selection_alpha=0.4)\n",
    "\n",
    "s2 = ColumnDataSource(data=dict(xm=[0,1],ym=[0.5, 0.5]))\n",
    "p.line(x='xm', y='ym', color=\"orange\", line_width=5, alpha=0.6, source=s2)\n",
    "\n",
    "callback = CustomJS(args=dict(s1=s1, s2=s2), code=\"\"\"\n",
    "    var inds = s1.selected.indices;\n",
    "    if (inds.length == 0)\n",
    "        return;\n",
    "\n",
    "    var ym = 0\n",
    "    for (var i = 0; i < inds.length; i++) {\n",
    "        ym += s1.data.y[inds[i]]\n",
    "    }\n",
    "    \n",
    "    ym /= inds.length\n",
    "    s2.data.ym = [ym, ym]\n",
    "\n",
    "    // necessary becasue we mutated source.data in-place\n",
    "    s2.change.emit();  \n",
    "\"\"\")\n",
    "\n",
    "s1.selected.js_on_change('indices', callback)\n",
    "\n",
    "show(p)"
   ]
  },
  {
   "cell_type": "code",
   "execution_count": 13,
   "metadata": {},
   "outputs": [],
   "source": [
    "# Exercise: Experiment with selection callbacks\n",
    "\n"
   ]
  },
  {
   "cell_type": "markdown",
   "metadata": {},
   "source": [
    "## CustomJS for UI Events\n",
    "\n",
    "Bokeh also has a general events system\n",
    "\n",
    "All of the available UI events, and their properties, are listed in the Reference Guide section for [bokeh.events](https://bokeh.pydata.org/en/latest/docs/reference/events.html)"
   ]
  },
  {
   "cell_type": "code",
   "execution_count": 14,
   "metadata": {},
   "outputs": [
    {
     "data": {
      "text/html": [
       "\n",
       "\n",
       "\n",
       "\n",
       "\n",
       "\n",
       "  <div class=\"bk-root\" id=\"568f5a1c-aa3e-4aeb-979b-cef1feb1f198\" data-root-id=\"2183\"></div>\n"
      ]
     },
     "metadata": {},
     "output_type": "display_data"
    },
    {
     "data": {
      "application/javascript": [
       "(function(root) {\n",
       "  function embed_document(root) {\n",
       "    \n",
       "  var docs_json = {\"d075c81a-0bcb-4da7-8569-bfa73bc353ee\":{\"roots\":{\"references\":[{\"attributes\":{\"children\":[{\"id\":\"2181\"},{\"id\":\"2182\"}]},\"id\":\"2183\",\"type\":\"Column\"},{\"attributes\":{},\"id\":\"2157\",\"type\":\"DataRange1d\"},{\"attributes\":{\"overlay\":{\"id\":\"2172\"}},\"id\":\"2171\",\"type\":\"BoxSelectTool\"},{\"attributes\":{},\"id\":\"2270\",\"type\":\"UnionRenderers\"},{\"attributes\":{\"active_drag\":\"auto\",\"active_inspect\":\"auto\",\"active_multi\":null,\"active_scroll\":\"auto\",\"active_tap\":\"auto\",\"tools\":[{\"id\":\"2171\"}]},\"id\":\"2173\",\"type\":\"Toolbar\"},{\"attributes\":{\"fill_alpha\":{\"value\":0.1},\"fill_color\":{\"value\":\"#1f77b4\"},\"line_alpha\":{\"value\":0.1},\"line_color\":{\"value\":null},\"radius\":{\"units\":\"data\",\"value\":1},\"x\":{\"field\":\"x\"},\"y\":{\"field\":\"y\"}},\"id\":\"2177\",\"type\":\"Circle\"},{\"attributes\":{\"args\":{\"div\":{\"id\":\"2180\"}},\"code\":\"\\ndiv.text = \\\"Button!\\\";\\n\"},\"id\":\"2184\",\"type\":\"CustomJS\"},{\"attributes\":{\"data_source\":{\"id\":\"2175\"},\"glyph\":{\"id\":\"2176\"},\"hover_glyph\":null,\"muted_glyph\":null,\"nonselection_glyph\":{\"id\":\"2177\"},\"selection_glyph\":null,\"view\":{\"id\":\"2179\"}},\"id\":\"2178\",\"type\":\"GlyphRenderer\"},{\"attributes\":{},\"id\":\"2264\",\"type\":\"BasicTickFormatter\"},{\"attributes\":{},\"id\":\"2269\",\"type\":\"Selection\"},{\"attributes\":{\"bottom_units\":\"screen\",\"fill_alpha\":0.5,\"fill_color\":\"lightgrey\",\"left_units\":\"screen\",\"level\":\"overlay\",\"line_alpha\":1.0,\"line_color\":\"black\",\"line_dash\":[4,4],\"line_width\":2,\"render_mode\":\"css\",\"right_units\":\"screen\",\"top_units\":\"screen\"},\"id\":\"2172\",\"type\":\"BoxAnnotation\"},{\"attributes\":{},\"id\":\"2155\",\"type\":\"DataRange1d\"},{\"attributes\":{\"text\":\"\"},\"id\":\"2263\",\"type\":\"Title\"},{\"attributes\":{\"args\":{\"div\":{\"id\":\"2180\"}},\"code\":\"\\ndiv.text = \\\"Selection! <p> <p>\\\" + JSON.stringify(cb_obj.geometry, undefined, 2);\\n\"},\"id\":\"2185\",\"type\":\"CustomJS\"},{\"attributes\":{\"formatter\":{\"id\":\"2264\"},\"ticker\":{\"id\":\"2168\"}},\"id\":\"2167\",\"type\":\"LinearAxis\"},{\"attributes\":{\"fill_alpha\":{\"value\":0.6},\"fill_color\":{\"value\":\"#1f77b4\"},\"line_color\":{\"value\":null},\"radius\":{\"units\":\"data\",\"value\":1},\"x\":{\"field\":\"x\"},\"y\":{\"field\":\"y\"}},\"id\":\"2176\",\"type\":\"Circle\"},{\"attributes\":{\"children\":[{\"id\":\"2154\"},{\"id\":\"2180\"}]},\"id\":\"2182\",\"type\":\"Row\"},{\"attributes\":{\"width\":400},\"id\":\"2180\",\"type\":\"Div\"},{\"attributes\":{\"source\":{\"id\":\"2175\"}},\"id\":\"2179\",\"type\":\"CDSView\"},{\"attributes\":{},\"id\":\"2164\",\"type\":\"BasicTicker\"},{\"attributes\":{\"below\":[{\"id\":\"2163\"}],\"center\":[{\"id\":\"2166\"},{\"id\":\"2170\"}],\"js_event_callbacks\":{\"selectiongeometry\":[{\"id\":\"2185\"}]},\"left\":[{\"id\":\"2167\"}],\"renderers\":[{\"id\":\"2178\"}],\"title\":{\"id\":\"2263\"},\"toolbar\":{\"id\":\"2173\"},\"x_range\":{\"id\":\"2155\"},\"x_scale\":{\"id\":\"2159\"},\"y_range\":{\"id\":\"2157\"},\"y_scale\":{\"id\":\"2161\"}},\"id\":\"2154\",\"subtype\":\"Figure\",\"type\":\"Plot\"},{\"attributes\":{},\"id\":\"2168\",\"type\":\"BasicTicker\"},{\"attributes\":{\"formatter\":{\"id\":\"2266\"},\"ticker\":{\"id\":\"2164\"}},\"id\":\"2163\",\"type\":\"LinearAxis\"},{\"attributes\":{\"icon\":null,\"js_event_callbacks\":{\"button_click\":[{\"id\":\"2184\"}]},\"width\":300},\"id\":\"2181\",\"type\":\"Button\"},{\"attributes\":{},\"id\":\"2266\",\"type\":\"BasicTickFormatter\"},{\"attributes\":{},\"id\":\"2161\",\"type\":\"LinearScale\"},{\"attributes\":{},\"id\":\"2159\",\"type\":\"LinearScale\"},{\"attributes\":{\"axis\":{\"id\":\"2167\"},\"dimension\":1,\"ticker\":null},\"id\":\"2170\",\"type\":\"Grid\"},{\"attributes\":{\"data\":{\"x\":{\"__ndarray__\":\"1upUBcHjV0CKiYT6BWw4QKDVL4owz09AfAcwnPGiREBHGpVb6OZTQK7yIZOEv0FAAH9/GDAvE0BmB4Uh5wNOQA5EzlmOt1ZA/TCdGPhFVUBCm2fKf0pRQNOM2NmaPVVA2wnaKboOWECcABwLUbpWQCLTWf/LBwBA9lweCzYjMUCa5LKD/KsvQOicv95SFCtAe0vYknOqMkCLTrKgmTxWQIzDNY6IvTFAkbHCSeyiSkAfr48qAro8QOc5hX9coVBACG7vlPoBREAyg4lL9WlSQIFI5NtaTUBAGKARsTtCTkD+tvQqLakQQA6pldg+q1FAABWm9MrqVED5B3FSkW1IQO+mHbTDYjZANlyn7Cy4SUBwULf/4z1JQMt55dHn1VNAJs1cHwtKGkDj7Cw+z+gRQNbLd5BArEVAx6Xk+QadSEAmcpqZUyJRQNF7IZgzAldAtM6ZGHrHWEBz5cUspBhKQGNAiZVHCjpAJ1vKYA7DPEDvDhvncqpUQGjdrmotgFNAJ/4nJjpzQkBolcwX73xCQBQaKTXYuD1A9mgH7J2aREBghb+S75pAQADQ3CHXHE1AEKp6kfBhQEBcSRcYlRpFQDj+DsLbRVBAcP5EM1imQUAbqC8js0lRQMagBa1JZ0FA7+C+fnhOOEBk22BV4+5XQGQMeJ6usERANiD7xbcjUUDMvr5uLHYyQFh/lFLy+UdAe/Gj+bVLS0D2i0QDIuhRQHVwPao9flJAvD/V1m3PIEB8oIWzGG9BQPuh6NuuGTNAUMCMYYrMPUAjSkXW3KhSQGZ1soKQUiJAAj9t5rbARkDMaSYTVk5RQPkr1rpDFC9A1oWCt7KwUEDMlWgxZr1SQBtq5L51vkpAqWYLmIkIGkAfiRr2kW5TQGYqZgaOwUpAgCWNwO77S0A1ue77ogxLQDHDVDu7eVVAQr5lEuZgJkAQUI6ICeI3QB52KnwLXUJA66D/7scUK0BdV0k8tn5QQAkT898XqDdAcbJdZkTHKkAv+LHyX9xVQDYO7zx1H1NAC/94pJU7U0C0U8BvEPNTQJhsbv6EeSNAIQB7iHrzSEDh9TuqGMxKQBCWVqpU2DVABSsPMAHmSUBNmfV46TxSQHUMtLEcPlVAeXolg96YVkDSYVpS2TEZQOTiogHXNkFAsIeWfO0GTkCGxRA3bphGQIMhdifTLURAVrf4TX3hRUDB6RQZ/p8xQBSccmN69kxAwuC5EJowE0DuybBVuQVKQNyeq89j2lJAIBdChlY/VkAeT14BTNIwQFDAiUShATlAkivDLi27PkD4KABEaIk5QAxEjh+jUlJA7xiP3BZpJUA8GMGkNHFQQCTp0aWKsjZAvggmRw9pF0DFqgE8n3JGQBIKXX/KFTVABeojdLryUUBLVxfKNSpIQF/KzbgjWTVASq2Ni3ujV0BsUrGrZDNWQBno/nvQPk1AJEvbHuwQVUDa3ViHN/lBQE6cB539o0FAGRJZ0wWPU0DHSjI725NSQPDwkllwDlFA/jDrzWPTO0DpQaOpJW9PQECgvTxflj9AwrQhMNODVEArSXnJk0pWQELBZF4oB1dAkhrriU8BSUC1hOS9+4kwQI2MB9vgQkVAKGZY+fUyNEA48EAhX/dSQHk2IVkvVT5A8WUUWU4eUECtHREwm4VXQHqncdaVgVNAZ16bzK8xVEC2j8ZKLLM0QLjtN/MCxFdAzpJ2Jjg4M0B8Prz8EntEQAg4eEh39jVA7ChzO4S3TkAcvpXX+nZFQC0PS+9xnS9ApuKoeBl2SkDK6rbAeSISQKUW3DdJdDZAnhDqluVbUEB0Y8k7AI4+QJpc0nwSLEJAwF9f+ifzCkDq74HC12RBQHgYVaRB7k9AboTV0JbgT0BVRf2XiKwdQGJJEy/M11RAAAG8IQlGkz8aSBxy7fVNQAHZXD/kglNAix7FnfQFUEDazP338RcDQH9xdC08ayVAjCUxl6r/TUDM3PjAyzNRQCpLfeohSVZA2417O1ctRkA4hIA1Jxs7QP8y7mPY0EJAt0u3U6TSUUDm+xh6GgZQQDxwyoZ/AlRASE5JaKSJMECh73Hq0QIhQH6ao9ZqylZAk32VIThAVEB1U9qIatdVQBQU/oe0tEVAA446J68MS0ANkSNtOSFUQITJ2dx6qDdA1jJ3hS3OVkAsF9lZ9FZXQAWbSqQhrjdAVLtmPwOvV0BeMU2CXipRQDcw5K19LUpA+GuFKk0MTEC8GMaUsEceQOUUvAhcs1BAItQPGldLVUDRwV1nyH5IQJ/x4ryH1UVATVMgWXvOV0Aq5OYWJu9OQAx6cbh9fVZAI7P33hyhVECQTUC85qYPQC7CbEYiY0ZAPxsGWjiUBEDDTL8gyz9IQEbPbdg6slZAHvZw16QwU0DeP18Vmb8hQHvJwQumv1BATKLlz59mV0AQzyxl8gBLQDpvSm6wWEZAcwquCZiPTEDsgfFmAZkwQJv5UJA0IkJAMi17sbkvQUAuAX2Vh7JXQLx/n9bswExApIKozBswUUBYEfkcoyBXQBmAQ8STJlZAtDrB3hqcTED486hfsCJQQOCeUbor4bI/YjBz4pWiNEBc2TxWtZQSQJFveaFJHEVA5I02EWyQUkD+vpncrd1RQIrPOrS8MkxAS77vunu+QEAkAX6tvsgDQOKAPbCLcDlAwXIUYS8+QEC04x033pZCQA/+cFLtjDhAaWzsl1KMVkCUnUiVyBJUQM6Uma55wVNA/MauYKK+PUDTIAFuzQg2QGANwAqigD5AaEhJIJCwR0CebdQWXg00QBZeBNypDldAVeOLPnQwNkDSJU3Z8YZKQLJGGXqzoERA7aSeTs1aV0B5XpDD94pVQGBupJs+hlZAXIs8QCjNJEBQzj7eovcTQJkFahlQM1VA2y775oKET0B/+XEkJuswQPwBZVlgcldAIY+AxaiVOUAetOo2GwJNQHlrb2rujk5AJvCqTDgP9D82IDAi8lxCQKMEEr8yg09AHvklqcqWP0CuA9zOJfFTQPKTFff64SpAJhgng0Q8T0A0OuromptRQI70dYEp+UFAp4jgVch/R0AZHpJLFBFBQKS9N9H2w1hAQHqiHzLIJ0CzIYBd6pFAQPWCGp6vHFdAevTAOPFSSUCFWDvZ67pTQANSkrg0ikhA49OFDJncKECzezwQeoJCQJZUb14QKCVAtmuc4EzcQEBZezPuW31MQF+DUcHZTlRA6AuQTgJU+D8kuDpa+gpUQELQjm97v1VAZrs474OtGUBd9D4ouN1RQNNAjeDs4T5AU5Stwy5zT0BtqNGGO6FWQIzbF3F4R09AMsaeF/mVSUBx+ya6zmxOQEIJpH09dldAiKhLD+snQ0AhOHnaZBkrQHVWAR699FVAXfVRpS3QQkCmh4YIuwFQQICuFOARWklAHCiPd5AdEUBI407plQEnQPuhenKgjEVAFESPNBsTQkAyaHIa2w1SQDp7Hk8ySg9Aw/0dqcCpSEBANqih2usZQMmGrIJwxUFAeejYSsVKOEA7MdSEr5NXQGu4qg6Z9SpAoJn2XIHsPUB4Kcbf9ZkwQA4sQHsEvkNAEVumDnuCVEBiLMI4u0dYQBYwfSPwOyhAami/lbwFTEAbC4A5LY9YQKp3YDD3YUdAsM/FNABWWEAQkLb4udEaQAJF1g/2dCJAgvy+3MhlV0B2HwlujxpDQPopmAYgGiVAxkLqxKEKRkAlIoP+HgdSQBgvEyLlxhBA7VXrnvfyVEARhV5wrppLQMytzuz1jDlA+x+bW/HlQ0Ba2SIOYuRQQJMqLR9jf1NAjjiOGLLfO0DXR3gOFPdKQJsF9vH2CEFA0CIstd/CGEB7XQH0dpVBQGlb5V3NNgJAcMYB3bU/RUBPlT+G+vhFQPMOOBYP+VhA+GH+aggRUECfhV6Hlm1RQI34o2qhFldADvtsmBgxQUAY5eO+7v8ZQGYfXLhTXzBAzwzkIUJIVkADlSU83KQBQA2XN2afWzJAvlFrxsccUUD2dzjFh3YIQL8NOKERBDhAttTrYXtRU0CSszdGlL1PQNag969gqzhAyh3hvpfXVkB3kFJIkkZPQOhTw4akRU1A4sMPTD7dT0DQ/Hs6gV8jQAH/VneWK01AcqwsY4TuR0BOredJIEBPQI/dFLfDvENApAWtC03zREDjSSdaUbRFQAMMxQ61JUBAZcxb7fMnVEBtCqdkJ5lNQFCDYeP5ylRAijuPcyywS0Bmr9dHOIFYQP+uOhXEYFFAtsCxyAW5UUB9a4Yj5RYcQO+LjUhew1JAzH+4VtlmKUBKKaFkW/YRQDCjWv34Z1JAolnDFoh9F0ADh8oS8yFPQEqOmAhvxj9Aw4CT7+T3QUBYhEbZFlk+QLlSOUWeRElA8jOwnPNDOED/81Sipq1AQLjwdtJcnUdA0oCdqZDFIkAfr7Ms/GU5QGIcBiALvFdA+dxxwl7WMUCiVU83b4pYQKskPk+/yU9AQJerpMPZOUD4xhJsBmpVQAajiY6xvzVADjvk29rsGkDj613WH9BHQN6f9Y7Nu1BAET0oNzLrLEClCQpEqfcbQLsFparcsglASldXZqQLSEDgiDzbViktQIUvqLZy9FZAf0+nAI2tWEB6zUZdgx/yPwIb2anVkUlAs0aW0eWxWEBdkvWjgDZJQHGX0PA5kERAEWka4GlPV0DD8fWnhIoGQHhJr2wAE0RA3WBf1zxOQkAb0PgzLZRPQODEstpHEFFAAAusQP+EUkAsvO3fW8lIQJbXSZBINFdAk0UOVETpTUD172LCQGxTQLd9Wp8nllZAGZuQhca2MEAF5SE/l69HQD9g6SF1M1hAnB7xAytdR0CJNw/gOi9TQGCIwdRQGEFAKOrK8ItSV0CP5BhPailHQDgB5slCIEJARAJw9sjLLUDqZzF0WvBTQNgAAM3dE1dA3jPQDlpoOUAjiQpAGqxOQM4pDSeusPU/IG5aijW7WEDAyciESBxRQEsHgcbQ9VdAvLu9Kzk9PUA1Qg65bW1YQCYyBW4T31hAgSoc07S1R0B2PRh6K2JXQK5gScOjYgpAr7Arv3mlT0AdpU7qF5ZHQNQNk7EsijtAnt/w2yx8KUCcrzex9OA7QNOTrCKYvEZAi4ArgRdKVUAZhti/1WItQLxI7jImRBJAWwtFQ4E5AEAykGZsR7FYQKoyzh8CTVJAToE/EIzXNkBgd+v2cO5NQMQEKn+KilFAr6IKklweT0CPl0hRFvlVQELkNSoAtUFACjqCDvQlM0CevGf2epJLQDl9wh00wC5A4ohmbroYVEC1WE5s7olMQLWD6tdyJFNAEs7D+EZuVUAaCblaSxtUQBAkPr9syUdA+ejWdPqaS0CQTpUqoQ1DQKTDH4gzRDhAI51NoQkVVUCZn4INoe0qQLQw5u1gMBJA0Ggs7XXkRECHfl0VtYJCQB0l4dXhQFJA6vgpv6sMQUB68LwjcHFTQFy8djkHXlBAn9lwVppRSUCu/wfrHWMVQM5X0uAWzFJAkhA/qzYWSkAqmLggVJckQEj3zS8LCU5AvkhBpwRlUkCrB+Bbvao4QFmznZCvG0pAiuWWmtucQ0C5NlJ5BatCQKhBb7uNz98/EzVQ/GQrVEAzxe9sfMs5QHq6C1oyyUtAqg1+O+pxVkCo2rbN9RtTQM1GRrfYJ0JAgP5Hu6rLMkDYQl9b+cVSQKIMpvDPeDRACUJEEeO2RUAUeHk2E3RKQGERDhBwR0tAHWO7pBylUUB32XB3+4dAQKaaELK2FCpACnfB78bTTEAIamct9dVSQIFRuaxqIDxAYXJ4EWsvMkBj4yaEDbJNQIWCGIYJt1BAqhD1OBUjWECG7wUt90RBQONUGZ1m7yZAIs9mgZ3f/D99S/AUq/dUQEGJClZgjDFAAZBSX1amOEAONULJbMlYQL/I/an7lDhAW9rgXXh0VkC0CwyFeq5NQKuuD9kkzh9A7716qYIQTEB13OEnkOhKQN6Qi9IUhjJAupetqxY/VkDO3t6fHRpHQD39UmccY1ZAd3qXZYUEUUB86MYYYU1AQAtaDsjD9UJAGoPR4fjyWECYH4WL7EtHQJwELdCPCxRAQUs7bavzEkDEdrIksV0yQE4OiwP1CENARg+OW7iTTkAlwQMSk2FQQL/NVGSJwFRAb9zpDfHnKkBupvgozj0xQJlxgTa4pEpANpD5pu3qUECY/Igtyt9NQOrKr6Xm/k1A9xPo8btBWEDwfS5sV67JP9q19APUbDdAFCEzMnajHEATgo9y5rFPQGEIMthlElVA42ek+W+9VEA6OoDeCagiQE5dTmFBNFhAZSj2EPJLQEAQz2zl23BQQEm93ThJ3RtAbzT3xgi5JED4hQz5aQYRQAfzPim8llhAilJqYTIcQkCe1j8af4hCQMuRbW3Q0ENATUAgUHDSREDT6LJ+1zlMQDFCtuXqez5AyjxQizDuQkDca8fcxIo7QM3R0KgN6EhAzF+/OFzDV0D5Jx9IectAQPxzRbk3O1hAqOfibxNBQ0CFDJlJiFACQABCuZKWq+s/JaqUMfx7Q0DuHwzpV69LQLn16m0+bkpAY6tKsZ5iSEDOlfH+a7c8QDoGeOjVbFRAXMEoviGDQUA7Tywj1qxQQCqtV48fF1JAT2DdMop7TEBeR2fNDLNRQKkxEcXMblBA0TmMX2ggRkAQWGslC4hPQIPKQ8TD41BAoE56NHrvVECXrjUQmL1FQM0vSqM7S1NAhoPAHGmyUEDVZp05GshLQGtRlnWnj0JAeqzbbssAE0BCJvoq0z5AQBm+Wix37UBASCxzEazBVUABZIIfR51RQF/7HgyDq1ZAIe7kmvnPRUBK7kg6cLhYQLw12Wenn0RAgZYYBURIQEDiX5mBvv1JQGRQbijpvzJAJzMHKQwUSUBLp4wXdcxSQLmlP8yHX1FAu1pX4IhgV0CcVt542l9LQO+EFxe/WTNAukIUp/KMV0D4n67hVL5QQBojMVl7T1dAn9QQ7/i2TEB/oIBT7KVDQKV4stlc5VNAXFeCy/bLVkA6OUiTxfJHQJfFirU9HktAdjPVlvTOOkDx39ALOihCQGKkmE07W0NArkoOYW4OUUD/hJqEfZFPQApEMHpmIkBAQfURszlXL0Az91gYxM1TQEJxngUh4kdADEkONfmLUED6IIAEZRQEQGcAB9DeSjtA4mRr3oZbPUCvfQ7ukUpYQM3EXJgdqFNAB7+49sZySkD2G7VUHnJNQPjfdVIBdytATvKyZgPsVUA0RkjrhrsnQL5rGH6bo1FA5kl9/FGcVkClL+PCWXJUQJvua3laEk5AAZlg6jAqOUD+u/L1WqE4QIOvFiKgIFJAi/Rko1eRUUDOWnYFhFVWQO/jR81nilFA9BhcGvvmVEBSxIN1Y7tOQJ0NWxCJwlBAwxO51j0RRkBdSTTtVY1XQDukvIPXiVNA8DeRZvXL7j+csYYDUCFHQDG9Fq57QQxAYTxN7dgjPkB6OTwlNFogQJI3hT2aHVhAlplD8NDgRkDaFOVUoZE2QEgTmSTJVEhAbE5bKzz2UUBctrihVUwuQPYskjjt6FRAqKrpSjVXMUB8D5HC4mVTQDd7ZmI2BE1AojCzCSfaWEABlhYAxAw3QA6kx5dCslBAnMB8ktcVLEAsBZtYWSJOQOovsigAgTdAGblMayVQUkAn6mtPoGU/QJvTXl+09jxAI2sjKAgfUECYQqnH2UUQQF7JhZQj21FAIwp5XVc2QUAuoBgZSZs0QOf0HJcF0VVAi9x2+zQKCUC+repo0w1XQAR/8+INzVhAmF6hToZINkChuXoiYdFUQFNYSrzD3D9AD/mhnhAiTkDQTARdHidYQHMjbxlRe05AMtex5SGBIECs/TJVHtpRQEoF7wGZPyhA3SfQY7oaOUDbwflEvJZKQM1J2wyPSUBAsqxvqxCPUUDAAQZQt+ILQGm8sL61oFVAU6f0EkAsDkAAEe45NutAQPiHtN+stilAfJnqgV1QSUCfLzeboMgyQOZoYa2qpVZAP2iU9rdYLUC0D7kzZc7xP/+sPML+IEFAGPEtaRovU0CCR/UZOdk1QBV2Hkbf8khARymMHNAaQEDueFn77ypNQPfqU2QSmVBAyDxJqPqAPkCRRSEu2WFBQDIGzSwI/FVAm5MIUYbcU0BsIs4Pfz45QA2h0D9PmQdA+zRCVbhFUUD/HineXtJYQHfLxqM2+SlAo0YttLVWVkB1bBf5dFVMQJ3TmsSVulJA8Kd3vm5kVkAArHLynckoQO1n4SCkMFNACk73n0hJV0CHw6D96Q0pQJsm5aW1gkBAk2Rc6vqiN0CN84nukVwNQKh5iSNzoShA9JDApI0CTEAZ+NguB3IkQLS23LMG9VhAjlmKJBRiVUDs2PkPRrRDQHAz5jHT9k1AzIg1RF4/Q0B3CbsDr4ZBQGbHV1Gj7ENAMJdEkTE/WEBx8hGZQk4yQJKZXCSISElAohgprOjXUkD3nDSmNnUmQHdAh5/3y0NAQo7M0BbnHkARAt1enG5VQM/CpUoZ+FVAKdQMVUq0V0A/IqDmEHNCQMjpa1/w4VdAchCi+8rWQkBsxnfBbUZYQOkVReisqyxA3HHaJWW9PUBcljEgFZMpQFi2dj08AVVAuTwKIlZWU0C9EGj2zTsgQDj/dTSSrk9AMwQnddPgGED+6iZIufNBQPqjrmGKFT1AQCASWO3hSUDo4ZEi8hlNQCtEsriPlwxAEH3OiceXSEBbVJ6LI1JXQFGZau7GhDpALbVOdY2OP0DepVq04PwZQJOh/lLZkEhAS0X5F5qsNUByPqXPTJVRQNraZ/8I2k5A2pLkDjpyNEC8qhYAo1hRQN0pG0nmfkNAins4YVfqP0AIUdFgVt8uQIPvBiOSF1JA3WWZRWVPQ0AsiZUrE6RUQPqSNNrluFZAPuzeyGZvI0BbGkeFXu1XQKpjk90Tvy5AQ7yzbnQ5UEBoi8IgyQ1XQC+Hcf70AEBAJ5wlnUuCUUDC1FDjyO9WQMZ58FM5mTNAZWgSvI8RRkC7TxKfdeIyQMRpHTJj5VRAeCEHlUP4SEBk0FxULRlUQMNA8bTWxlBALjRInxgkRkDth03F8mxEQAaofCK68UxAW4e62xI2SUATN0Mywf4mQJ/hybxpiVZA/x5NpIciOkDMbDBmRWtRQIod5mt16i9A9c3r4gGhT0BUUjy1vDL0P3J8z5cZ4T1Ac3Ozt8GeU0A1sXWG22E/QOcQ8QAQFFFAtm6N+YzKUkCUX8qMS/ZNQLBpl/sRnzdAmR0w16txVkCzaUUY7iFYQC8rQmnz0SJAD8NskqYwUECIt+ntAy5TQPh/BZ/t7FFAukA2E6ZxT0B2g17DHxtCQMTCLG5xLyZANi2lkaK8J0C3slgqTqtDQKNTX2N62EBALt0STYpQEkDYOC9n5KtMQDc/hvMPkytA9bFIYpyISEDLkfXfPAZWQKdOtXwCRU1AFly1sfK5V0BD9IayT2xDQBg6sDFNRDZAaISZRAjYQUBBGuwcr4JOQIzq5cZhP0ZAe10DYrliVUC2KeRTMIBHQMy7KNQXUiBABpA7cQYHUEAjjIQvvMRRQGFBUlgDyFNAsjHGcyNdVUAAtKesJCpUQP3DZfP98CpASeT19EbpVEAdsSnPhnYjQAPBCfO9n1BAmVpYIoDvMECfKENThuhYQGxa8Xth01BAihaVNQJPV0BZ/wd+YLFJQOGwDgEamVRAPELRvwK+UUAOFey/3Ur8P+ZpgeH6x1FAuuWI2vKzIkCM444BmzhEQI6mIO7HJyBA6njJDD07OEByEPCiUONRQKUQciPgYR1AnYEIgja6S0COmOxhV7Y1QDXVtXpUoDJA05M+YU9pQ0BO0jWdr7M1QMm0md93JzFApp/5iIV0OEAverkY/NNFQIjyCW9rb0ZAuqXkOyIHJkAcyfzyFhgxQPE1/LrmBFdAhguGB+kiUUDibaix0Iw2QNdhZCT0ulVAKLdM8vHfU0B1BhQ47pQ3QLsVuo7SYFBAXBlMVQFyQUCem9OkZCVPQH+XlqvZ/jRA7aWakj4iUUDZMNwVUfRPQNfKXzrWXFRA1PGQXOROUkBEZEniMhxOQI6eG/AbL1NA76+1JUqSVEBgLCVOhktAQCD+XsG6cDRAzKhGblWcVEBeLxqS+e5AQDFrUMnq+jxA+HNKRZWDS0BI/zxLaK4/QMCcTD843bo/jwYROSV4T0DJnZsMIHtUQIpFMkZ1SUxA8kZ2yP4aWEB4ox9qHT0UQGSUrbfmujFApDto7VvrV0DBwCSM28FNQCxLKQiHehJA95F/I2M1T0DhUlFSz0lOQBP1Wn0dcVFAvPf16lIQUED1PGB6Fw1SQF1WmdcJoVdAiRqwuRpNRkA+mUnfPNJHQGCW6ZBelTJA1spMjM6fFUC9gzrhiNlUQL7C4tiPE0hA7UnSMCZpVkDSQxaG6F4xQKNYGUF9QzFA1BJ1Cj3xR0Daz4YzHFwkQFujkLXr5EJASd8yIjpuQkCCzxzlQ9sOQJcfxfnk/hRAAixFKmPHVkBAAUnD+qsfQJ62I7uSr0tAHutxALtyBUD6ye6eiE5PQFEWNzBsNBhAGwzsQLW0UUDmd3+hpxRIQLU8oWd0xSdAdRrSyEAWREBC2Xc+sjlCQFvTg5Yv7iBAPJaKlDfvTkA9YLFBlthVQOoIlQX46DlA9yrJ6/BkO0BbNUo+IDtUQDqiRgXeo1JAA4+GjdZxMEBBiu0Dk/YpQKv/zT4VLEpAdsvBNcjmWEAb8NqmnmFJQNhX9l7NaTRAV3gvwVWCUEDSBt5UZl0wQCBQOfrNBOE/LSkCcxjIMUCVDFXt6QVVQMZG8N9hxzlAgYfXoimeS0BAKlvf1T1XQNNF59KJBCtA2L86q5V9RkAwnmt5GdNTQK3GplbMY0FAaHea/P5sIkA9pCmv9m5IQLj/dekYjUZAbEvuxRazOECOld9ajyA+QElJ40I+jTtAbe0++OuBSEBy3EjszHxYQHoSFh7m5yxAfNcU3yx6VECVn/YN59UpQGUjbFSfVytARFKc+WsGUECvRvmwhdBXQNndRxVjSDNAOLmdQwfPOkAMcnnpXJtIQKpbLQCPtTBAffaDpD1dUkBXbIP1TLFVQHNB7OlOByVAC8exfTAWUkBQmPWcCCIRQPetpuJ4V1hAfnUr/NPAFkDQPGm9NkNSQA3cfAUQzVhA0gTT3pTnSkAOpExbE9JTQO4h6XpWBShAGVv4KGo7UkCNXL3LlE5IQGZZwH1XyEJAtZzfNwN1UEAVC4QMKGJCQLaDSj1ymDtAULvoboYgV0AW+g680aomQOgbTXQVHUBA8w/UeAx4HEAdqpYUR8RYQJcOFO1IBUhAA3I2AaoXV0ABP6swTvJEQHkaVsePJFdAtwNxGfzoJUC+ZPBaEfIcQMBJea8gNiZAH00eAJagVkAotrvl+I5QQClKT8oCXjhAenNU5QA2VkC2TVyr0RoqQOX1nChu0FNA0d07GPzdUECqzmCeUWUyQPN0z2oX1CxAIAKPG8FvLUBGDhRFeCwSQBhORSmCHk9AhWn+pGsrRkDg2hek2NZUQAjQnuzAQVFAB5hczxyHOUD0SGzalo5TQOJ4euJ490BA+4umreteWEDLfjcZghtHQJoh4/GvvUlAIbKzB/yJA0Dr6EBLFJVOQJdmLqhVKVVAJ6BhxYEMWEBpJhQ1WPxXQCwcQ+N71kFA3za/XAHLVEAhsqZ5qQZLQEzpjrksvDRAuwT7WF+vVUAloCRRWAtXQI2fKtd0OkVANBSwfEJOVkCDjCDPrbVTQNSjJLwLhlJAeMmAWRUgJkB64zBcEkdOQLHHOv/e6lBAPhnhy6gVTEArAD/UKDRYQDeMcSMrRlJAJUbPx71PO0Bgc1+CySolQLWmplIDQy5AZLwuz5ujSUAGBhEYvh5UQKIWTvCCFEBABgBEK+ANUEAYZUTzDkkvQPpYzPLI0lhANXendRTBMUCnbBwk9WM2QAl3dd7dDEJAyktxewHuUkA5ia0RXWBUQHHLneYXe1RAQVIeL2NHP0Bf8y5A/JhQQFlkscSnEVdAZsnDByUeVUB1DSpUPG43QIoKo983uk9AzPyFopnaWECGfbpddt4UQEUNjFWM7ilAgnN1gg49QEB8pnX4ieT0P/aZ+0KhY0hAeAX4ehJcV0BafsGdrkZSQKQBL+P81ktAYvy+uh41TUDMguFytgNFQAMhm8XHBSNAuONyOEXODUCEnKvvAMBIQKxBXlt5oFFAkAp7Jv4CDUCiBc5R2YhFQKxnqiEMDEZA94VBoj+yVEB3pNKT+K5PQMsaGi/VWUhA5Td3drAYWEA3hfGk7R5UQOJ4/Xasf1VABjErB0e7UUA3lbfkLIlEQJj5sUOPS0hAC0UxraviRkA00uiLP9M5QFAhENx/wUhAQmgUdgfgWEC9aOUHgiZOQMVnTGqp5lRAYAN9o1QTRkB44s7uvxkVQEy+ht5mITJAbiMmQaX6N0BSWv/4DGRIQHcjtZHhyFJABRcOtfBPQkAwpNEwgaZQQFjxgIXJk0RA9FXT+TmjSUATply9zZJFQFHyUKXtY1dAijEzhf/FMkB4lBjqrW0/QGjkcKSuZVJA/aeaCM40S0BcT8yZW1lCQE99/BprLjxAHGFavNWaOkCtF3rMYvBHQFciyx4UUidAUrXx8Z6mWECHOncwQ2ZTQHKyo8RVjVFAgULLmaCfVkBlqFGt4GdDQLL7CxJ3lFVAJZyzTzwaPkA/CgKL1nQgQMLpsomWWldAoDPgldFkWEC17Vj7tfdQQNL0AYQafz5A1K9bJQKsVUCCaWBaytNDQLie48p+9FhA/98yIQjYSUC8iP48N29NQKnHejkJIENAjZk+i8otV0CwdA8mJdU7QLfLVwg6bChAAFHjOuiCVUDc5UAKXTTrP35LxWFjUFRAhkvwkf4aUUDHOpjIynNRQN6oCqmSRkVAvZQxYdLOU0Btx0GVHZRCQKs82lRcz1RAWzXVcBiwJUCJpNFDarVXQII+j57cSEBAWEYs1QFYN0CMMZn2OxJGQKKSIIBWq0ZAnNceBtVNU0D6ZX0HLkwgQFFoUX/bt1hA55WG1bi8Q0BIv11WiZVHQN5vZEYV7UlAxkf9UR+nUkBn2Za5TCxQQDMZVjAHLkNA0hKq4FBuKEB8/Lw9B4c5QDNcvt0q1glAYudqnjQ8REC/qXV8wC1XQAuczvandlZA2CJcBBrk/j8FREq7NmlJQHX5IT3eBUdAH44Oj/n/OUASkHlkP7wjQO9SxGSpN1hAOCbWE2SgUEDYpClmbTNCQOw7GuVg0D1AFq4KHYRfWEBKRfCD999HQNuKrDiCl1NAtiQ363KhVkDvCcj2dt1XQL40zaVXS1ZA+NCYuisAREDxzEp+yVBAQAyMifSTCC9AMiCd2D9TOECEV7ohN/FGQG2weO2ju1JA8vCX2ELCMEAasoEDBpk3QF/L3bV8vjdAUS1kvPb/S0CKB6A/5ulBQDzn2IEfwjlAJv8jLYEFTUBh06TG1KZRQDdviUCZHEtA0NqIlYqtP0BBwslm2jhPQBeaUTENbUVAywTGjnZWVUAotPA8rbrvP5CJAAhSWkpA+4RBm/tvP0AECrCml9pSQI1VaBiFRE5AEelpBNTeUEAh8PrWV2NHQCF0cdXdSj1Ag7eq+zoHNUAj1wjv1t9VQGY5ocP63ElAPr1ohbeKJEDEgGQZ+kdFQK8FdjDaogNAJpIwPfiTVEB+Oe01miZTQA+lreuGN1NAlr/9S9idREA4yUzKzO42QOQ9AMk3FjVAYIGvb8qMVkDcOIArsHNTQBI+5d8KN/I/k8nTVxutR0BlJukbeOU9QN98SlPhEkVAd9Hj8DfTVUBomyoMJEX7P+44DfZe3zlA9RIJgnpYRkDESvTFJ01QQKpXRWHcYDhACYMhzv1RAUA22HWAKFxKQEjVRMN2czRAs29xe8WoSEBFrj4c8l9RQNxjKjOHREZA3g53LDc1UUCv7Ct2VhFPQDLRirOnxUdAEaed/Y35VEDFXaLKkX42QIbNB4tHzjZAmY74Zd9zT0D3+nR+xMdYQM/vF5FxmE5AiFpsTa6XTkBCzQVGfeI5QBlhk0CjAiFAEYR8ZcROVECgUIz7b+lYQPYc2ccUMklAjrLWWJ3uU0CsKyM3EUowQGEq6nXnh1VAfFgeGfALUUC4HS8YpH5UQO+hIt9V+lRAbunQDDH6QUAfuxdrRMM7QAhVJLnw0UJA40wXOunvV0CcWahpu+oiQIr4QxvBElVADyVGo4abVkCxX3u5aCg4QKjUhat4hE9AMiIYwMl5/D8Zq6vn7uVWQMOrS8IeiUlAXUSGMFmiJEBoBunFUghFQHqtCtWL40ZABXZHoTuQR0CwXYoBJwFTQGuz12k4VEhAqwdGqzcdU0DAf8pp0t4dQFGv+Gvu+1FAPOl7GN/EVkDrar/hLGNRQJ/oVp5T4EdAw1APFGcATkCeKegzxB1DQHNfUOKByFBAGaEGCvlgV0DV6D+HNt5RQHIxu0or0lJAQo3BnZTcVEDClrafkMsSQKtAnpatBVNAMsGaGu+KKkAsxKBeyEhAQKB6azYsSSNA2lW8pgjJWEAE7JsbLB1KQASRxO7XMFBA1MjrbTeZI0BnWwyi7AA+QJveO0o220hAUGi0ZiMeTUCJfWUPfvdPQGSSqufZUeQ//uqohTIXSkCj27SHuGE6QC0e4eV3cUZAClzt1ry7V0CDw5+vWZNTQJoDjL5mSUlAT4NZMFAtUkD4QyLxou06QFk3t9VyzlhA0r5dkI99TEBGeYgwNX1WQNlRlvCd7B1AiiJmXOonNEAH4RtUy9AKQLf31D6mo1BAz8QdMogeLEDogv3ZNoZGQGBoFe7Nr1RA+iw9Y9NqV0AxWKf+aRlSQD4EaBf/xTdAKSWqdzJiTUBRgt77prZXQJ6Krlxz0yJAmu5MoOmKOUDD+7JgKQZWQO4t/Fgyb0pABcjx27BPV0AWpj27dfs9QF9Ov2CH41hAZs2N+NcEP0BchD5IgKhXQL8LGGhZtVZAYO1Lb0dbUEAslyP6eQlGQMHuHUPhyChAh2mdJvSANUA2Z50p0VlIQII4PLk1UkpA878CQLg/F0CAx7YXJuZTQOQWQAbeK05AVmmtQqljUUAhWUEvLZYgQKviGK+NRUtAicsXGLOKT0DBx8KId+JJQAuN+pbfgUVAu5epJAxXSEBr2j4nE31BQPkm/ifmQ1dAhyH+WNEiVUBqb5TLSRNUQLBAJUQFQj1A/QeQzxS/V0DCODVorFNKQHolIPbFiFhA5xJtG1zPRkAAaeqjJ/v8PzOvv3SUTE5ALdlr+5YPRUBv5vlEw19JQAHAnwLzNFRAWWr2bc+rTkAkPsolsK4QQG8MLbgilElAFJF7RlLEV0AxXIYU5b1HQLSMFvemElRAql9mv9otSkAg5N/A4u0yQNPxafQ5NDhAlK5hdpFUV0Cmaak8sy07QGZzHPDV9VdA1BBY8jjGVUAS4A23roBUQGaxAEWT11dAseRUcW9nVkCq0jt71PpTQLJ+RAD+5lVAWoBLAd7NVkA4PUY1M2xVQOIzyM0+WEtACktw9Uk3OUBO+T2WIpQ0QN8evojW+ThAa8lFhjsSR0Cl8gsrqiJWQDs+E8wxBlJAw65F1RHjQUCBEQbdSFcxQJB5NaddgFhAwdBE+ZvrVkDb5YoAMYwEQOdFqa9YGldA/EpKBrizVUB8iH1UXsVRQFqEcccEbTNAfngnBEw7VUBdeod6rQ87QN4geUmlSzdAAaTFJmwhE0CrUOLT6EJHQAnOMqc1dFdAjx+XVzI9TEAfMTn/wVgRQAAqUL1CGUdAlwpq97SIV0DE35vxHMhOQN+xGXqNxlRACgSLSUWlUkCH0oULaYJYQNfp68aX8zRAUbDx1gLWU0A0ItkZeINQQAHaZzPXHz5AQhay0r10TkCdbHAYcjRSQNCJ8a77f/s/9iZizzibPkAcFvUktrdSQNz9T+SyB1FAyBZTRVW5VUDS9idbOr4QQK18Oari6kNA8b7jSTwyKUDAvkLOppI0QLxCzCusblZAFBgfHpFqJUC27qKDoA1RQA471iSlOlBA2aTbz7NJQUAWFUkk1GRAQLFtrHn3BlFAn9VdDrkER0Ctq0sxDGZOQDdJoeTHBz5A08gRf1veO0AYSFogX75RQBI8PC3m3UNAXEIbbvOfRkCtFQeeiRdNQORjnZkT3VBAXIc/62jfR0DxMf7FCDpXQFKyyPTJJ01Af1VXQmfyJEDsjte+tuVSQMVRS8ElP1RAycJKD6l5PkC9hMXxey0cQAdOaNdvRkBAcIs3IioWJ0Am3Q5KgMBYQAp5LYRGHDxAr43j5+srPUB8XTfe4u9WQMku20qXfFhA3I1CXU/KOUBkGs8C1BU5QGtM4tHUqURAztWOU5CuUUBppBwe+iM3QDIZ362ruTlAdhk1GuFgO0ARSWnr7WRUQICZ1K7bV5E/zWqTsFBxUEAag+zmz0tKQFYO+IdHXFdA/E9/aJdnS0CVMP+EGXhWQOyUKPRdF1FARuMnGNDFVEAyHaD4tAYqQPezPUMDLldADfOj3U67T0BdONkrCSowQLJxx+YslypAkZSnZ6EPWECYEhRiHzpFQKZK5aP0xyBA6Yv/cuk/VEC8CWfIcGBCQFbauq5qtU9AMOGS2T4OSUBO+/E1/FwyQIC8pPaA5EBAaqU1qRhVUEBSbrO0AqgvQKh6E9Mil0dAHHGM9pzjEUD1moTF4+okQMFByBdhA1NAQ2vo+tkxV0DQaCFhBa1RQPWJBDagez9AD6cIWLFXSEDW8DpGWpZWQLhv/y2USjtAT4mJ8BleUEAMqN5C+yM2QOyLjo+NDRpAd8u/QO4sTkA4PyrelodVQGV0JXzwikVAbkTnfbuxKUBOoGTjZLBUQAAzmNL4WDhAzKf/0gtUTkBfFKtqxERVQCd5qlBXPElA1odPgIqvTUB7RcDSqn5SQPRYahQiKg9AHJegcpouT0CQWOHK6kNLQFIFQWXTa0ZAiGlZqr4tF0DvBwuYaPVQQCjDYQJnB1hA06bSTraAVECCA9QutVRIQDCS451s8FBAb4E3jp3AU0AGWXPr9AwfQFHnjU/0clZAhPEttR1DSEBCLqOIifpMQOoaoze/ZSlAjwogLm+GN0AE85fseR48QOpMJbc70lZA3UygALlrIUBjGLLqhX1RQIYo30hFVVNATKX+fQXyVUCjimTDkahGQB13zMpnq01Apk/YDO+oTEApC0peTq8sQGGSfyi/5UhALZT/jNh0NEDiYcKnjUlCQEbYbLT9J0RAocyBzGOaRUAfcxcIVHBXQOmO7R+DUT1AwDWU32FFKUA6TMbp1H83QLCEhXyd2FRASknWK0fJS0DS8nEy0edRQOtQ6YqwvUBAgKjvmy9uU0ATbre9oKo1QMq9/L4G2VZAyP5e3fhcKECWpPiDNTxDQENNyx89RkNAOGkwSb2h1z8cJ/lQ+08pQFG137g/D0VALqmBefrbQ0DdEZtFK2EtQHVngSRcGENAuXBLOOUpREDu0sdCBIFCQK9RnOmuWFNAYqUts0PKJ0A9DMIdnrhQQDoyVhL6qEpAzGAJST7ySkD06cFdWQPpP9pPPRsMmFdAbSv8gyCdTkBGmHTYNeE0QDP8beoNKFRAPRndSpNrMkCPzhX40gxKQDbMgbySFjVA+5Pe//tEVUCDy6yH7ONWQJx7vxRw5FVAYVf3rL2OREDrnWw/yAVTQKfkyyS0NFhAHKEUzNwsUEDg4Ao3jOlKQJy96bBuTDVAlrGPI04+QUBv55NMwDlKQOIGgmJikTBA/sYh7QvqUEC6iwkBPx5MQHgGwg2Rvj9ArmzJ1kwwWEAZfPrvTb44QL/EonKDDThAAO4GMCDKUUAYBdjwUkVWQCDSN+uD6yVAPTnsA0ZRQUDdSUo0CI5RQNuVL09AhFhAs0ktnjpcCUDpaXtKtGVXQEuUFazPNFBAGz4ujmf7UECc/ofWdSg+QFtZSqV6d1FADmm1EcJwUUDTOkjjPchRQPr0NYsGuBZAerc2IG57N0BtKjkaGB5EQO5awyNOVkRAJs6dloeWSUAuGsvuriFXQIl94XMvP0xA7p7lAoE7SkDVLVWxD3BTQN3w46TJCUZA0AHeOhLI5z8RinHpjBdQQMK3gyfAc0dAa6csO4+IR0AW67+mpOX3P5TCj5PZnT9AY2hikGFGOEAUkjquMoRCQLr6JpG5zR9A9dHM73JVVUDGF/R72Cs+QNdeMviUulFA5zayIxwgBkAi+NsRN/NTQC88tUK1VkRABCihXjdqBECLzsjKTDE2QILwlwpxXi5AHc6y6qi9UkDQwk5p8hPTP9N5Wp85X1NAP6n4HKVCWEAXg3m7+WAtQI7d/WyGaEhA8O5s0eQFN0A4kvm6CsVIQMOtkaJhzUZA2wudBoA5SUChaXwmBTRXQEZS3LaF9jJAkcDi/aD0U0Aq5FMM9CJRQE1pbm8/rFVAN80ElZfmTkCgHEfuHnk4QNAGUzhweFBABy37h88WSECpILqlcrVPQL6G/ZVvDBJAiu2sxSvAV0CVJDg4UGNHQIv9bkXoxlFA8hF0NNMCTUCzIJrOkhpKQG5IYoK4v1JAPKD8jL40I0Az0KfpPPdRQEhzw7Be5EFARx2il2yUVUBoDgaI80jUP6wvJztvpVNAf51UMyCUWEAcE0kmtdAHQBdzHQumE1dAfb0W/N1yUEA5og13QHZUQM/dZBPBLlZAnHTTwzVsVEAexy5scLlNQORIUxxW8k9AfHqkNal6U0CU8qtpmx0sQOvRZ8beZFFAgimcgrnASkC8AhX2RU/+P9cFgjGSbUZATJ5BcnQ/UUBhRyzkir9RQLZ1zP5F9zlAnBRTalAFPkCdBGTObgVKQICsSgJLElZASROonqBMFUCSs7ipEA5TQPfeloUlMjdA1BzOwuYDQkCBtXemXuNVQEFD+B2ncFdABn2l+vAEUUClZksq/6I5QHgcCIUcMiRAJDneyqneMkDsiftUWuJLQNSjSIMgPSJAilPPn91cVUDqw0q+E+82QMMfp4CtXVdAGuGlDct+U0AqgP7DBJJLQARUkUIsCUBAYjGQXiiiUkDX1u2kIRZYQNRxzscChFBA+TEMgYbrVkAkwv4rNyxCQJ8C5ed+k1JAhCwmL7AXQEBpB2Okb8o1QIiHyLy6glVA08bo9x6TVUC99109ucVEQOxSepXXwfc/rE9RFE2bIUA6ioG7RcZYQAGrDiETrElAcPqrrZAPVEDgjLsVc+o3QEZ/R5og01hAQvZPBVB3NkBoe9qmX3ZBQOnbW9CTVFdAMDcUN741RkDcPkqHen5IQKc6N4h/81BA19j8bSD9NkBw075mCfhMQN96yaWylktACKmXZn8hVkCXbVdb22RQQBhkUJQzPE1A5jpr1yEoRECwk0mo3rpUQNaI3qNGsT9Ad5bbtyqpUEBTn68sjbZQQP2/KV6dTlVAYgklNINoS0DrZoZOxHtSQEjNVHApmVRAHDyITQmeO0B9/7MiIOwsQGo6UKVRv1BAVqe220mjWEA4SnlUPvtDQFpJ1aUO+TJA71eldaN7U0A0/iLpvA43QH2Xqx17+FJAtcPEjVDGO0BID68FAzsuQCjj+igCFxpAmGxgsgrzREByC2T0i+1CQGKNKRQ4VlNAgINOcgYtNEBmI/cxTdUoQPBFbjucviRAO0sKvDNzQEDAyyEeaWJYQBDBX3ymkz9AgUAlZqvAMEAH9386hNhJQHo4dF3XH05ArkYrJBtURUBh8PBnnwBEQH+r076bGkFAGd13oPEfU0Bro3dSW0dVQDrSAFtQJiBA5YwKtn4UPUDiI444FXdVQPXsfQvx5UxAGsU8x6dDUkCnbo6FStNGQN5W1m6kNzJAPHC8WgnVQEBelvM2sgoQQFt3ehOQGUhAYpcLGPnPUEDlbg0Ja2hVQDfn/EN1b1RAyhQUVYv6WEC+9fZWB0hDQFN3Pss70j5AEfUe3kTKNECpWmrse31MQGYB9H223VVAFvYQbqiATECGGfY96+5DQPeZT9Vis1RAuHsSKAd0MEDdNQTWfKM1QCznH4GfYkVAYSN8rglBVUBTsAUFBRdAQNf9ICwnQFJA6M1Bl4ONTEBULbJjVGdWQCPzXrPvb0xAjgImdjoCT0DrySCL7PdJQL+xUB41qU5AzRifOEJpRkCTLKMNF2JBQOhAu1Z+tQ1Aqn0o3ErvVkBbIlZAHd9SQEUuzTT98iZAX6sCX345SkAc4ycOTORBQFiZwGrXazFA0U0gW1SlS0COBwFnt3cUQNhxHkaFPTFAXQ1klqxDOUCk6BflBKDiP3hQdo1RV09AWTHwgrqGRkD3KmHh72pTQJAmCET1ZCdAvfR/wYF6VUB3h/kiPvw6QMfsWH0HATlAD7tuAjSBUEDPzWjZp+QwQC39/SyMdFJAJmBaxcJXT0Dic9Z7w7ZSQKz80VVtPz5AZrHgo0rjI0DczbA0/p5WQEa2JhUNiFVAmrD8sedRVkAoXkkkVkw3QL3RcD222FFAc5HdAT6uP0A14JTQ2dNKQKYC8jnKjFZAMoarFPt8GUC3jSXes1dTQIBU+lDXxVFApshhJdyTPUDRypttTUxRQDcP93vDbjBAGY3+ZY22RUCt/DNvq78QQHiJaR56/SRAUVh1x5h2OEC5FvQhkEhKQIa5priwDRNA+5jsIcm6OkDeIZGVNt1NQFm/jWwmWU1AcAwA++3fN0BRB0wBvnNJQDheP9lO2VRAoQvTKFizV0D3cYEu9o5KQL66eMgAq0tAFqBDOTLxU0DB9tgHAqdPQAtxmP02kEdAIrha/kdHR0DmwrrVLhs8QH4/VQRT/lZAt6ayaPezQ0CX0CyWgfU4QOWiQzcZf1JAojkLVOcxU0Cn3BseGJhSQIBpB5qGwBJAl0Q7/CLPSUDRVGt+1l8OQJkomaCzzk1AGDpaEBY5N0DFacdim+xEQGh2/Ry/40BAZhNl1Vx2WEDe/Oy6O5xTQBH9o13NmSVA19VX7Qp6JUCInrWSly8SQDlIJjR2JiVA4kclmw3SOUC0JTxIoppNQOiqvauxk0NAG4FPJSzjU0D/DtV7aO5FQAl1cCcgEExAyjcVDdoxU0B5Sqc/TEpLQCZ2PFZyYkVAV6ZPOg1DVkD9tGCasQQ1QFZlP/bZHDZAc1KPGYh4U0DdOS597Go4QNKk/sbfSFBAPsrhyVzpVUDviVB2qnNDQPRVUZ10rj9AJU+aBH8bC0C+Rbjmw2gqQESHhxpdlU1A97bMR/0eNkBhwcnJ2Wc+QIjAsaSe6kFAbINWNak3TkDc9ywzd45AQEY1rA06JldA0r/1d869VUDpgrzlxWNDQPjSB6imWVZA6Bupad0HOkA+PY2Tcpg2QA==\",\"dtype\":\"float64\",\"shape\":[2000]},\"y\":{\"__ndarray__\":\"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\",\"dtype\":\"float64\",\"shape\":[2000]}},\"selected\":{\"id\":\"2269\"},\"selection_policy\":{\"id\":\"2270\"}},\"id\":\"2175\",\"type\":\"ColumnDataSource\"},{\"attributes\":{\"axis\":{\"id\":\"2163\"},\"ticker\":null},\"id\":\"2166\",\"type\":\"Grid\"}],\"root_ids\":[\"2183\"]},\"title\":\"Bokeh Application\",\"version\":\"2.0.2\"}};\n",
       "  var render_items = [{\"docid\":\"d075c81a-0bcb-4da7-8569-bfa73bc353ee\",\"root_ids\":[\"2183\"],\"roots\":{\"2183\":\"568f5a1c-aa3e-4aeb-979b-cef1feb1f198\"}}];\n",
       "  root.Bokeh.embed.embed_items_notebook(docs_json, render_items);\n",
       "\n",
       "  }\n",
       "  if (root.Bokeh !== undefined) {\n",
       "    embed_document(root);\n",
       "  } else {\n",
       "    var attempts = 0;\n",
       "    var timer = setInterval(function(root) {\n",
       "      if (root.Bokeh !== undefined) {\n",
       "        clearInterval(timer);\n",
       "        embed_document(root);\n",
       "      } else {\n",
       "        attempts++;\n",
       "        if (attempts > 100) {\n",
       "          clearInterval(timer);\n",
       "          console.log(\"Bokeh: ERROR: Unable to run BokehJS code because BokehJS library is missing\");\n",
       "        }\n",
       "      }\n",
       "    }, 10, root)\n",
       "  }\n",
       "})(window);"
      ],
      "application/vnd.bokehjs_exec.v0+json": ""
     },
     "metadata": {
      "application/vnd.bokehjs_exec.v0+json": {
       "id": "2183"
      }
     },
     "output_type": "display_data"
    }
   ],
   "source": [
    "from bokeh.plotting import figure\n",
    "from bokeh import events\n",
    "from bokeh.models import CustomJS, Div, Button\n",
    "from bokeh.layouts import column, row\n",
    "\n",
    "import numpy as np\n",
    "x = np.random.random(size=2000) * 100\n",
    "y = np.random.random(size=2000) * 100\n",
    "\n",
    "p = figure(tools=\"box_select\")\n",
    "p.scatter(x, y, radius=1, fill_alpha=0.6, line_color=None)\n",
    "\n",
    "div = Div(width=400)\n",
    "button = Button(label=\"Button\", width=300)\n",
    "layout = column(button, row(p, div))\n",
    "\n",
    "# Events with no attributes\n",
    "button.js_on_event(events.ButtonClick,  CustomJS(args=dict(div=div), code=\"\"\"\n",
    "div.text = \"Button!\";\n",
    "\"\"\")) \n",
    "\n",
    "p.js_on_event(events.SelectionGeometry, CustomJS(args=dict(div=div), code=\"\"\"\n",
    "div.text = \"Selection! <p> <p>\" + JSON.stringify(cb_obj.geometry, undefined, 2);\n",
    "\"\"\"))\n",
    "\n",
    "show(layout)"
   ]
  },
  {
   "cell_type": "code",
   "execution_count": 15,
   "metadata": {},
   "outputs": [],
   "source": [
    "# Exercise: Create a plot that responds to different events from bokeh.events\n",
    "\n"
   ]
  },
  {
   "cell_type": "markdown",
   "metadata": {},
   "source": [
    "## Additional Information\n",
    "\n",
    "There are many kinds of interactions and events that can be connected to `CustomJS` callbacks. \n",
    "\n",
    "\n",
    "* Widgets - Button, Toggle, Dropdown, TextInput, AutocompleteInput, Select, Multiselect, Slider, (DateRangeSlider), DatePicker,\n",
    "* Tools - TapTool, BoxSelectTool, HoverTool,\n",
    "* Selection - ColumnDataSource, AjaxDataSource, BlazeDataSource, ServerDataSource\n",
    "* Ranges - Range1d, DataRange1d, FactorRange\n",
    "\n",
    "\n",
    "For more complete examples the User Guide section on [JavaScript Interactions](https://bokeh.pydata.org/en/latest/docs/user_guide/interaction.html)"
   ]
  },
  {
   "cell_type": "markdown",
   "metadata": {},
   "source": [
    "# Next Section"
   ]
  },
  {
   "cell_type": "markdown",
   "metadata": {},
   "source": [
    "Click on this link to go to the next notebook: [07 - Bar and Categorical Data Plots](07%20-%20Bar%20and%20Categorical%20Data%20Plots.ipynb).\n",
    "\n",
    "To go back to the overview, click [here](00%20-%20Introduction%20and%20Setup.ipynb)."
   ]
  },
  {
   "cell_type": "code",
   "execution_count": null,
   "metadata": {},
   "outputs": [],
   "source": []
  }
 ],
 "metadata": {
  "anaconda-cloud": {},
  "kernelspec": {
   "display_name": "Python 3",
   "language": "python",
   "name": "python3"
  },
  "language_info": {
   "codemirror_mode": {
    "name": "ipython",
    "version": 3
   },
   "file_extension": ".py",
   "mimetype": "text/x-python",
   "name": "python",
   "nbconvert_exporter": "python",
   "pygments_lexer": "ipython3",
   "version": "3.7.6"
  }
 },
 "nbformat": 4,
 "nbformat_minor": 4
}
